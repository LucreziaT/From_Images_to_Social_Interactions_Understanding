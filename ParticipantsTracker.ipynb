{
 "cells": [
  {
   "cell_type": "code",
   "execution_count": 1,
   "metadata": {},
   "outputs": [],
   "source": [
    "#imports\n",
    "import cv2\n",
    "import numpy as np\n",
    "import time\n",
    "from collections import deque"
   ]
  },
  {
   "cell_type": "code",
   "execution_count": 2,
   "metadata": {},
   "outputs": [],
   "source": [
    "#Values to be set\n",
    "datasetPath='C:/Users/Lucrezia/Desktop/Internship/MNM_version2-Revision17/Mingle/'# put the path of your video here \n",
    "DAY='1'\n",
    "cameranum='1'\n",
    "N=2 #number of persons to be track\n",
    "lenhistory=124 # len of the tracker history, if it is shown in the frame"
   ]
  },
  {
   "cell_type": "code",
   "execution_count": 3,
   "metadata": {},
   "outputs": [],
   "source": [
    "def suc(succ,box,pts,frame,pl=False):\n",
    "    if succ:\n",
    "        (x1,y1,w1,h1) = [int(numero) for numero in box]\n",
    "        cv2.rectangle(frame,(x1,y1), (x1+w1,y1+h1),(0,255,0),2)\n",
    "\n",
    "        xc = int(x1 + w1 / 2)\n",
    "        yc = int(y1 + h1 / 2)\n",
    "        cntr = (xc, yc)\n",
    "\n",
    "        pts.appendleft(cntr)\n",
    "        frame=cv2.circle(frame, (xc,yc), radius=2, color=(255, 255, 255), thickness=3)\n",
    "        \n",
    "        if pl== True:\n",
    "            for l in range(1, len(pts)):\n",
    "                if pts[l - 1] is None or pts[l] is None:\n",
    "                    continue\n",
    "                frame=cv2.line(frame,pts[l - 1],pts[l],(0, 255, 0),2)\n",
    "    return (frame,pts)"
   ]
  },
  {
   "cell_type": "code",
   "execution_count": 4,
   "metadata": {},
   "outputs": [],
   "source": [
    "def creat(frame,N):\n",
    "    my_pts = {}\n",
    "    my_track ={}\n",
    "    my_b_box={}\n",
    "    for i in range(0,N):\n",
    "        my_trackname=\"track%d\" % i\n",
    "        my_track[my_trackname] = cv2.TrackerMIL_create()\n",
    "        my_ptsname=\"pts%d\" % i\n",
    "        my_pts[my_ptsname] = deque(maxlen=lenhistory) \n",
    "        my_b_boxname=\"b_box%d\" % i\n",
    "        my_b_box[my_b_boxname] =cv2.selectROI('Frame',frame)\n",
    "    return(my_track,my_pts,my_b_box)"
   ]
  },
  {
   "cell_type": "code",
   "execution_count": 5,
   "metadata": {},
   "outputs": [],
   "source": [
    "def create2(frame,N,my_track):\n",
    "    my_succ={}\n",
    "    my_box={}\n",
    "    for i in range(0,N):\n",
    "        mytrackanme=\"track%d\" % i\n",
    "        mysucname=\"succ%d\" % i\n",
    "        myboxname=\"box%d\" % i\n",
    "        my_succ[mysucname],my_box[myboxname] = my_track[mytrackanme].update(frame)\n",
    "    return(my_succ,my_box)"
   ]
  },
  {
   "cell_type": "code",
   "execution_count": 6,
   "metadata": {},
   "outputs": [],
   "source": [
    "def create3(frame,N,my_track,b_box):\n",
    "    for i in range(0,N):\n",
    "        mytrackanme=\"track%d\" % i\n",
    "        b_boxname=\"b_box%d\" % i\n",
    "        my_track[mytrackanme].init(frame,b_box[b_boxname])"
   ]
  },
  {
   "cell_type": "code",
   "execution_count": 8,
   "metadata": {},
   "outputs": [
    {
     "name": "stdout",
     "output_type": "stream",
     "text": [
      "total time:  9.886993646621704\n"
     ]
    }
   ],
   "source": [
    "# Loading video \n",
    "cap = cv2.VideoCapture(datasetPath+'videos/downsample/30min_day'+DAY+'_cam'+cameranum+'_20fps_960x540.mp4')\n",
    "frame_w=int(cap.get(3))\n",
    "frame_h=int(cap.get(4))\n",
    "outvideo = cv2.VideoWriter('output8.mp4',cv2.VideoWriter_fourcc('M','P','4','V'), 25, (frame_w,frame_h))\n",
    "ret, frame = cap.read()\n",
    "cv2.imshow('Frame', frame)  \n",
    "\n",
    "tracks,pts,b_boxs=creat(frame,N)\n",
    "create3(frame,N,tracks,b_boxs)\n",
    "\n",
    "font = cv2.FONT_HERSHEY_SIMPLEX\n",
    "numero=0\n",
    "#Let's start\n",
    "seconds = time.time()\n",
    "\n",
    "while cap.isOpened() and numero<1000:\n",
    "    numero=numero+1\n",
    "    ret, frame = cap.read()\n",
    "    if not ret:\n",
    "        break\n",
    "    succ,box=create2(frame,N,tracks)\n",
    "    height, width, channels = frame.shape\n",
    "\n",
    "    for i in range(0,N):\n",
    "        my_ptsname=\"pts%d\" % i\n",
    "        mysucname=\"succ%d\" % i\n",
    "        myboxname=\"box%d\" % i\n",
    "        frame,pts[my_ptsname]=suc(succ[mysucname],box[myboxname],pts[my_ptsname],frame,pl=False)#If you put True here, you will have a history of the tracker shown in the frame \n",
    "    cv2.imshow(\"Image\", frame)\n",
    "    outvideo.write(frame)\n",
    "    cv2.waitKey(1)\n",
    "    if cv2.waitKey(1) == ord('q'):\n",
    "        break\n",
    "cap.release()\n",
    "outvideo.release()\n",
    "cv2.destroyAllWindows()\n",
    "seconds2 = time.time()\n",
    "print('total time: ',seconds2-seconds)"
   ]
  },
  {
   "cell_type": "code",
   "execution_count": null,
   "metadata": {},
   "outputs": [],
   "source": []
  },
  {
   "cell_type": "code",
   "execution_count": null,
   "metadata": {},
   "outputs": [],
   "source": []
  }
 ],
 "metadata": {
  "anaconda-cloud": {},
  "kernelspec": {
   "display_name": "Python 3 (ipykernel)",
   "language": "python",
   "name": "python3"
  },
  "language_info": {
   "codemirror_mode": {
    "name": "ipython",
    "version": 3
   },
   "file_extension": ".py",
   "mimetype": "text/x-python",
   "name": "python",
   "nbconvert_exporter": "python",
   "pygments_lexer": "ipython3",
   "version": "3.9.7"
  }
 },
 "nbformat": 4,
 "nbformat_minor": 4
}
