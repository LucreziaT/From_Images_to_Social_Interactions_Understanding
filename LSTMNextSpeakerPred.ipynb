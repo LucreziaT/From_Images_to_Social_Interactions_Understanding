{
 "cells": [
  {
   "cell_type": "code",
   "execution_count": 34,
   "id": "c938a75c",
   "metadata": {},
   "outputs": [],
   "source": [
    "import cv2\n",
    "import csv\n",
    "from matplotlib import pyplot as plt\n",
    "import matplotlib.pyplot \n",
    "import numpy as np\n",
    "import os\n",
    "import sys\n",
    "from tqdm.notebook import tqdm\n",
    "from pandas import read_csv\n",
    "from sklearn.preprocessing import LabelEncoder\n",
    "from sklearn.metrics import accuracy_score\n",
    "from keras import Model\n",
    "from keras.layers import Input, Dense, Bidirectional\n",
    "from keras.layers.recurrent import LSTM\n",
    "import numpy as np\n",
    "from keras.callbacks import EarlyStopping, ReduceLROnPlateau, ModelCheckpoint, TensorBoard\n",
    "from tensorflow.keras.models import Sequential\n",
    "from tensorflow.keras.layers import *\n",
    "from tensorflow.keras.callbacks import ModelCheckpoint\n",
    "from tensorflow.keras.losses import MeanSquaredError\n",
    "from tensorflow.keras.metrics import RootMeanSquaredError\n",
    "from tensorflow.keras.optimizers import Adam\n",
    "from sklearn.metrics import confusion_matrix\n",
    "from sklearn.metrics import accuracy_score\n",
    "import pandas as pd\n",
    "import seaborn as sns\n",
    "import warnings\n",
    "warnings.filterwarnings('ignore')\n",
    "\n",
    "#Function for the creation of a 3d matrix\n",
    "def ThreeD(a, b, c):\n",
    "    lst = [[ ['0' for col in range(a)] for col in range(b)] for row in range(c)]\n",
    "    return lst"
   ]
  },
  {
   "cell_type": "code",
   "execution_count": 2,
   "id": "3a79d1bc",
   "metadata": {},
   "outputs": [],
   "source": [
    "datasetPath='C:/Users/Lucrezia/Desktop/Internship/MNM_version2-Revision17/Mingle/'# put the path of your video here \n",
    "DAY=1 # day number "
   ]
  },
  {
   "cell_type": "code",
   "execution_count": 3,
   "id": "727bd48a",
   "metadata": {},
   "outputs": [],
   "source": [
    "#converts a CSV file into an array, returns any array, the array encoded in the CSV file\n",
    "def openCSV(filename):\n",
    "    rows = []\n",
    "    with open(filename) as csvfile:\n",
    "        reader = csv.reader(csvfile)\n",
    "        for row in reader:\n",
    "            rows.append(row)\n",
    "    arr = np.array(rows)\n",
    "    return arr"
   ]
  },
  {
   "cell_type": "code",
   "execution_count": 4,
   "id": "8754bd60",
   "metadata": {},
   "outputs": [],
   "source": [
    "#to count how many people were in a conversation \n",
    "def partcounter(numbers): \n",
    "    a=' '\n",
    "    cardinality=0\n",
    "    for i in numbers:\n",
    "        if i!=' ' and a==' ':\n",
    "            cardinality+=1\n",
    "            a='a'\n",
    "        else:\n",
    "            cardinality=cardinality\n",
    "            a=' '  \n",
    "    return cardinality"
   ]
  },
  {
   "cell_type": "code",
   "execution_count": 5,
   "id": "40b34980",
   "metadata": {},
   "outputs": [],
   "source": [
    "#saving the daily ID of the two participants\n",
    "def litoint(x):\n",
    "    val=[]\n",
    "    val2=[]\n",
    "    count=0\n",
    "    for i in x: \n",
    "        if i!=' ' and count==0:\n",
    "            val.append(i)\n",
    "        elif i!=' ' and count==1:\n",
    "            val2.append(i)\n",
    "        else:\n",
    "            count=1 \n",
    "    s = [str(integer) for integer in val]\n",
    "    a_string = \"\".join(s)\n",
    "    res = int(a_string)\n",
    "    s1 = [str(integer) for integer in val2]\n",
    "    a_string1 = \"\".join(s1)\n",
    "    res1 = int(a_string1)\n",
    "    return([res,res1])"
   ]
  },
  {
   "cell_type": "code",
   "execution_count": 6,
   "id": "864d681f",
   "metadata": {},
   "outputs": [],
   "source": [
    "#this function will automaticall give the total ID, as input it needs the daily ID,the numer of the day, and the path\n",
    "def realID(s,day,datasetPath):\n",
    "    cont=0\n",
    "    try:\n",
    "        filename1 = datasetPath+'manual_annotations/PARTICIPANTS.csv'\n",
    "        labels1 = openCSV(filename1)\n",
    "    except FileNotFoundError:\n",
    "        filename1 = datasetPath+'manual_annotations/_PARTICIPANTS.csv'\n",
    "        labels1 = openCSV(filename1).astype(np.int64)\n",
    "    for i in labels1:\n",
    "        cont+=1\n",
    "        if int(i[0])==DAY:\n",
    "            if int(i[1])==s:\n",
    "                return(cont)"
   ]
  },
  {
   "cell_type": "code",
   "execution_count": 7,
   "id": "bdc1d2c4",
   "metadata": {},
   "outputs": [],
   "source": [
    "#dividing the labels, frames is the history we want to keep in the labels and in the x data, if we want to have a memory of 2 frame it will be 2\n",
    "#in this case we want to use it with LSTM, and we will use 40, but any other value can be choosen\n",
    "#we iterate from that number to the all length, taking in to account to divide each conversation separatly and then append all the data togheter.\n",
    "def divisory(y,frames):\n",
    "    lista=[]\n",
    "    count=0\n",
    "    for i in range((frames),len(y)): #we will divide the conversation frames by frames, so we will have to start at frames till the end. \n",
    "        lista.append([y[i]])\n",
    "        count+=1\n",
    "    lista.append([3])\n",
    "    return(lista)"
   ]
  },
  {
   "cell_type": "code",
   "execution_count": 8,
   "id": "11c7f22e",
   "metadata": {},
   "outputs": [],
   "source": [
    "#dividing the xdata, frames is the history we want to keep in the labels and in the x data, if we want to have a memory of 2 frame it will be 2\n",
    "#in this case we want to use it with LSTM, and we will use 40, but any other value can be choosen\n",
    "#we iterate from that number to the all length, taking in to account to divide each conversation separatly and then append all the data togheter.\n",
    "def divisorx(x,frames):\n",
    "    lista=[]\n",
    "    for i in range(0,len(x)-(frames-1)):#we will divide the conversation frames by frames, so we will have to stop frames -1 before the end. \n",
    "        temp=[]\n",
    "        for j in range(0,frames):\n",
    "            temp.append(x[i+(j)])\n",
    "        lista.append(temp)\n",
    "    return(lista)"
   ]
  },
  {
   "cell_type": "code",
   "execution_count": 9,
   "id": "c7d850aa",
   "metadata": {},
   "outputs": [],
   "source": [
    "#transform the final embedded prediction in a class \n",
    "def binaryresult(pred):\n",
    "    ris=[]\n",
    "    for i in range(0,len(pred)):\n",
    "        m=max(pred[i])\n",
    "        count=0\n",
    "        for j in range(0,len(pred[i])):\n",
    "            if pred[i][j]==m:\n",
    "                ris.append(count)\n",
    "            else:\n",
    "                count+=1\n",
    "    return(ris)"
   ]
  },
  {
   "cell_type": "code",
   "execution_count": 10,
   "id": "9871110e",
   "metadata": {},
   "outputs": [],
   "source": [
    "#finalcheck to see if the prediction is correct or not \n",
    "def finalcheck(model,x,y):\n",
    "    pred=model.predict(x)\n",
    "    pred1=pred\n",
    "    for i in range(0,len(pred)):\n",
    "        m=max(pred[i])\n",
    "        for j in range(0,len(pred[i])):\n",
    "            if pred[i][j]==m:\n",
    "                pred1[i][j]=1\n",
    "            else:\n",
    "                pred1[i][j]=0\n",
    "\n",
    "    #print(pred1)\n",
    "    import sklearn\n",
    "    acc = sklearn.metrics.accuracy_score(np.array(pred1), np.array(y))\n",
    "    print('Accuracy between the prediction and the actual value: ',acc)\n",
    "    ris1=binaryresult(pred1)\n",
    "    ris2=binaryresult(y)\n",
    "    c=finalerror(ris1,ris2,False)\n",
    "    print('Total number of errors: ',c)"
   ]
  },
  {
   "cell_type": "code",
   "execution_count": 11,
   "id": "607e1434",
   "metadata": {},
   "outputs": [],
   "source": [
    "#calculate number of errors\n",
    "def finalerror(ris1,ris2,pr=False):\n",
    "    final=[]\n",
    "    for i in range(0,len(ris1)):\n",
    "        if ris1[i]==ris2[i]:\n",
    "            final.append(0)\n",
    "        else:\n",
    "            #print('pred',ris1[i])\n",
    "            #print('real',ris2[i])\n",
    "            final.append(1)\n",
    "    count=0\n",
    "    for i in final:\n",
    "        if i==1:\n",
    "            count+=1\n",
    "            if pr==True:\n",
    "                print(i)\n",
    "    return(count)"
   ]
  },
  {
   "cell_type": "code",
   "execution_count": 12,
   "id": "10aa159c",
   "metadata": {},
   "outputs": [],
   "source": [
    "#definition of the model\n",
    "es = EarlyStopping(monitor='val_loss', min_delta=1e-10, patience=50, verbose=1)\n",
    "rlr = ReduceLROnPlateau(monitor='val_loss', factor=0.1, patience=10, verbose=1)\n",
    "tb = TensorBoard('logs')\n",
    "cp4 = ModelCheckpoint('modelnew/', save_best_only=True)\n",
    "def define_model():\n",
    "    input1 = Input(shape=(40,shape)) #use row and column size as input size\n",
    "    lstm1 = (LSTM(units=32))(input1)\n",
    "    dnn_hidden_layer1 = Dense(128, activation='relu')(lstm1)\n",
    "    dnn_hidden_layer2 = Dense(64, activation='relu')(dnn_hidden_layer1)\n",
    "    dnn_hidden_layer3 = Dense(16, activation='relu')(dnn_hidden_layer2)\n",
    "    dnn_hidden_layer4 = Dense(8, activation='relu')(dnn_hidden_layer3)\n",
    "    dnn_output = Dense(4, activation='softmax')(dnn_hidden_layer4)\n",
    "    model = Model(inputs=[input1],outputs=[dnn_output])\n",
    "    model.compile(loss = 'categorical_crossentropy', optimizer=Adam(learning_rate=0.001, beta_1=0.9, beta_2=0.999, decay=0.01), metrics=['accuracy'] ) #0.001 default\n",
    "    model.summary()\n",
    "    return model"
   ]
  },
  {
   "cell_type": "code",
   "execution_count": 35,
   "id": "09d36027",
   "metadata": {},
   "outputs": [],
   "source": [
    "%matplotlib inline \n",
    "def acc_loss(history):\n",
    "    plt.plot(history.history['loss'], label='train')\n",
    "    plt.plot(history.history['val_loss'], label='test')\n",
    "    plt.title('model loss')\n",
    "    plt.ylabel('loss')\n",
    "    plt.xlabel('epoch')\n",
    "    plt.legend()\n",
    "    plt.grid()\n",
    "    plt.savefig('acc',bbox='tight_layout',dpi=100)\n",
    "    plt.show()\n",
    "    \n",
    "    plt.plot(history.history['accuracy'], label='train')\n",
    "    plt.plot(history.history['val_accuracy'], label='test')\n",
    "    plt.title('model accuracy')\n",
    "    plt.ylabel('accuracy')\n",
    "    plt.xlabel('epoch')\n",
    "    plt.legend()\n",
    "    plt.grid()\n",
    "    plt.savefig('acc',bbox='tight_layout',dpi=100)\n",
    "    plt.show()\n"
   ]
  },
  {
   "cell_type": "code",
   "execution_count": 14,
   "id": "0270b738",
   "metadata": {},
   "outputs": [
    {
     "name": "stdout",
     "output_type": "stream",
     "text": [
      "LABELS array shape = (36000, 828)\n"
     ]
    }
   ],
   "source": [
    "# LABELS\n",
    "try:\n",
    "    filename = datasetPath+'manual_annotations/LABELS.csv'\n",
    "    labels = openCSV(filename).astype(np.int64)\n",
    "except FileNotFoundError:\n",
    "    filename = datasetPath+'manual_annotations/_LABELS.csv'\n",
    "    labels = openCSV(filename).astype(np.int64)\n",
    "print(\"LABELS array shape =\", labels.shape)"
   ]
  },
  {
   "cell_type": "code",
   "execution_count": 15,
   "id": "a89c3a5d",
   "metadata": {},
   "outputs": [],
   "source": [
    "N,M= labels.shape\n",
    "dataset=ThreeD(9, int(M/9), int(N))\n",
    "for i in range (0,N):\n",
    "    for j in range(0,M):\n",
    "        dataset[i][int(j/9)][j%9]=(labels[i][j])"
   ]
  },
  {
   "cell_type": "code",
   "execution_count": 16,
   "id": "64095259",
   "metadata": {},
   "outputs": [
    {
     "name": "stdout",
     "output_type": "stream",
     "text": [
      "LABELS array shape = (69, 5)\n"
     ]
    }
   ],
   "source": [
    "# reading the file with the conversation, containing the persons involved and the initial and final time\n",
    "try:\n",
    "    filename1 = datasetPath+'manual_annotations/F-formationsGT/Day'+str(DAY)+'.csv'\n",
    "    labels1 = openCSV(filename1)\n",
    "except FileNotFoundError:\n",
    "    filename1 = datasetPath+'manual_annotations/F-formationsGT/Day'+str(DAY)+'.csv'\n",
    "    labels1 = openCSV(filename1).astype(np.int64)\n",
    "print(\"LABELS array shape =\", labels1.shape)\n",
    "M1,N1=labels1.shape"
   ]
  },
  {
   "cell_type": "code",
   "execution_count": 17,
   "id": "bc5a41c0",
   "metadata": {},
   "outputs": [],
   "source": [
    "M1,N1=labels1.shape\n",
    "liscoupl=[]\n",
    "for i in range(0,M1):\n",
    "    if i!=0:\n",
    "        if partcounter(labels1[i][0])==2: #couples, if more litoint needs to be modify to accept more persons\n",
    "            s=litoint(labels1[i][0])\n",
    "            k=[]\n",
    "            k.append(realID(s[0],DAY,datasetPath))#saving real ID person1 and real ID person2\n",
    "            k.append(realID(s[1],DAY,datasetPath))\n",
    "            liscoupl.append([k,int(labels1[i][3]),int(labels1[i][4])])#appending ID participants and initial final frame"
   ]
  },
  {
   "cell_type": "code",
   "execution_count": 18,
   "id": "00cf0e60",
   "metadata": {},
   "outputs": [
    {
     "name": "stdout",
     "output_type": "stream",
     "text": [
      "[[[3, 29], 12000, 16880], [[2, 14], 12000, 17340], [[12, 17], 12000, 17340], [[5, 22], 12000, 24000], [[10, 25], 12000, 24000], [[1, 4], 12000, 16160], [[21, 23], 12260, 12640], [[15, 26], 12640, 14140], [[13, 23], 13740, 13960], [[13, 21], 13960, 14040], [[9, 28], 14580, 14960], [[3, 18], 17720, 19640], [[8, 28], 18340, 19700], [[13, 23], 18060, 22020], [[15, 21], 18060, 22020], [[2, 9], 18340, 18500], [[12, 17], 18500, 24000], [[20, 30], 18500, 19360], [[20, 30], 19540, 22260], [[4, 26], 19540, 20060], [[8, 28], 20200, 24000], [[4, 26], 20640, 23060], [[30, 31], 22360, 24000], [[3, 29], 22480, 24000]]\n"
     ]
    }
   ],
   "source": [
    "#all the couples in conversation, from initial to final frame\n",
    "print(liscoupl)"
   ]
  },
  {
   "cell_type": "code",
   "execution_count": 19,
   "id": "94c37566",
   "metadata": {},
   "outputs": [],
   "source": [
    "#label creation\n",
    "speaker=[]\n",
    "spdata=[]\n",
    "for j in range(0,len(liscoupl)):\n",
    "        temp=[]\n",
    "        #print('s',speaker)\n",
    "        for i in range (0,N):\n",
    "            personid1 = liscoupl[j][0][0]-1\n",
    "            personid2 = liscoupl[j][0][1]-1\n",
    "            if i>liscoupl[j][1] and i<liscoupl[j][2]:\n",
    "                if dataset[i][personid1][3]==1 and dataset[i][personid2][3]==0:\n",
    "                    temp.append(0)\n",
    "                    spdata.append(0)\n",
    "                elif dataset[i][personid1][3]==0 and dataset[i][personid2][3]==1:\n",
    "                    temp.append(1)\n",
    "                    spdata.append(1)\n",
    "                elif dataset[i][personid1][3]==0 and dataset[i][personid2][3]==0:\n",
    "                    temp.append(3)\n",
    "                    spdata.append(3)\n",
    "                else: \n",
    "                    temp.append(2)\n",
    "                    spdata.append(2)\n",
    "        temp1=divisory(temp,40)\n",
    "        speaker.extend(temp1)"
   ]
  },
  {
   "cell_type": "code",
   "execution_count": 20,
   "id": "d5658f77",
   "metadata": {},
   "outputs": [
    {
     "name": "stdout",
     "output_type": "stream",
     "text": [
      "[[1, 2], [2, 3], [3, 4], [4, 5], [5, 6]]\n",
      "[1, 2, 3, 4, 5]\n",
      "[[[1, 2], [2, 3], [3, 4]], [[2, 3], [3, 4], [4, 5]], [[3, 4], [4, 5], [5, 6]]]\n",
      "[[4], [5], [3]]\n"
     ]
    }
   ],
   "source": [
    "#just tot check if the functions are working well \n",
    "sss=[[1,2],[2,3],[3,4],[4,5],[5,6]]\n",
    "ysssy=[1,2,3,4,5]\n",
    "print(sss)\n",
    "print(ysssy)\n",
    "l=divisorx(sss,3)#-> i divide the input in couples \n",
    "print(l)\n",
    "l1=divisory(ysssy,3)#-> i create the label for the dataset \n",
    "print(l1)"
   ]
  },
  {
   "cell_type": "code",
   "execution_count": 21,
   "id": "0adfbb3c",
   "metadata": {},
   "outputs": [],
   "source": [
    "maxInt = sys.maxsize\n",
    "while True:\n",
    "    # decrease the maxInt value by factor 10 \n",
    "    # as long as the OverflowError occurs.\n",
    "\n",
    "    try:\n",
    "        csv.field_size_limit(maxInt)\n",
    "        break\n",
    "    except OverflowError:\n",
    "        maxInt = int(maxInt/10)\n",
    "tempo=-1\n",
    "with open('labeldyadsalldayprova.csv', 'w',newline='') as csvfile:\n",
    "    biglist=[]\n",
    "    biglist2=[]\n",
    "    writer = csv.writer(csvfile)\n",
    "    for j in range(0,len(liscoupl)):\n",
    "        #print(tempo+1)\n",
    "        #print(liscoupl[j][0][0]-1)\n",
    "        #print(liscoupl[j][0][1]-1)qq\n",
    "        listprov=[]\n",
    "        for i in range (0,N):\n",
    "            personid1 = liscoupl[j][0][0]-1\n",
    "            personid2 = liscoupl[j][0][1]-1\n",
    "            if i>liscoupl[j][1] and i<liscoupl[j][2]:\n",
    "                tempo+=1\n",
    "                #best 3 features\n",
    "                listprov.append([dataset[i][personid1][3],dataset[i][personid1][4],dataset[i][personid1][5],dataset[i][personid2][3],dataset[i][personid2][4],dataset[i][personid2][5]])\n",
    "                #best 4 feature, except for talking\n",
    "                #listprov.append([dataset[i][personid1][2],dataset[i][personid1][4],dataset[i][personid1][5],dataset[i][personid2][2],dataset[i][personid2][4],dataset[i][personid2][5]])\n",
    "                #all features except for speaking\n",
    "                #listaprov.append([dataset[i][personid1][0],dataset[i][personid1][1],dataset[i][personid1][2],dataset[i][personid1][4],dataset[i][personid1][5],dataset[i][personid1][6],dataset[i][personid1][7],dataset[i][personid2][0],dataset[i][personid2][1],dataset[i][personid2][2],dataset[i][personid2][4],dataset[i][personid2][5],dataset[i][personid2][6],dataset[i][personid2][7]])    \n",
    "                if (dataset[i][personid1][3]==1 and dataset[i][personid2][3]==0) and spdata[tempo]==0:\n",
    "                    pass\n",
    "                elif (dataset[i][personid1][3]==0 and dataset[i][personid2][3]==1) and spdata[tempo]==1:\n",
    "                    pass\n",
    "                elif (dataset[i][personid1][3]==0 and dataset[i][personid2][3]==0) and spdata[tempo]==3:\n",
    "                    pass\n",
    "                elif (dataset[i][personid1][3]==1 and dataset[i][personid2][3]==1) and spdata[tempo]==2: \n",
    "                    pass\n",
    "                else: \n",
    "                    print('ERRORE')\n",
    "                    print(dataset[i][personid1][3])\n",
    "                    print(dataset[i][personid2][3])\n",
    "                    print(speaker[tempo])\n",
    "       \n",
    "        biglist2.extend(listprov)\n",
    "        lista=divisorx(listprov,40)\n",
    "        biglist.extend(lista)  \n",
    "        writer.writerow([listprov])"
   ]
  },
  {
   "cell_type": "code",
   "execution_count": 22,
   "id": "d5fa3725",
   "metadata": {},
   "outputs": [
    {
     "name": "stdout",
     "output_type": "stream",
     "text": [
      "(75660, 40, 6)\n",
      "dataset complete:  (75660, 40, 6)\n",
      "label complete:  (75660, 4)\n",
      "dataset train:  (43974, 40, 6)\n",
      "label train:  (43974, 4)\n",
      "dataset val:  (12564, 40, 6)\n",
      "label val:  (12564, 4)\n",
      "dataset test:  (19122, 40, 6)\n",
      "label test:  (19122, 4)\n"
     ]
    }
   ],
   "source": [
    "#embedding and division of the dataset\n",
    "\n",
    "sp1=np.array(speaker)\n",
    "x=np.array(biglist)#.astype(np.float32)\n",
    "print(x.shape)\n",
    "from sklearn.preprocessing import LabelEncoder\n",
    "from keras.utils import np_utils\n",
    "# encode class values as integers\n",
    "\n",
    "sp11 = np_utils.to_categorical(sp1)\n",
    "X_train, y_train = np.array(x[:43974]), np.array(sp11[:43974])#70%\n",
    "X_val, y_val = np.array(x[43974:(43974+12564)]), np.array(sp11[43974:(43974+12564)])#20%\n",
    "X_test, y_test = np.array(x[(43974+12564):]), np.array(sp11[(43974+12564):])#10%\n",
    "\n",
    "\n",
    "print('dataset complete: ',x.shape)\n",
    "print('label complete: ',sp11.shape)\n",
    "print('dataset train: ',X_train.shape)\n",
    "print('label train: ',y_train.shape )\n",
    "print('dataset val: ',X_val.shape)\n",
    "print('label val: ',y_val.shape)\n",
    "print('dataset test: ',X_test.shape)\n",
    "print('label test: ',y_test.shape)\n",
    "shape=X_train.shape[2]"
   ]
  },
  {
   "cell_type": "code",
   "execution_count": 23,
   "id": "dd9406cc",
   "metadata": {},
   "outputs": [
    {
     "data": {
      "text/plain": [
       "array([[1., 0., 0., 0.],\n",
       "       [0., 1., 0., 0.],\n",
       "       [0., 0., 1., 0.],\n",
       "       [0., 0., 0., 1.]], dtype=float32)"
      ]
     },
     "execution_count": 23,
     "metadata": {},
     "output_type": "execute_result"
    }
   ],
   "source": [
    "#to show how the classes are embedded\n",
    "y=[[0],[1],[2],[3]]\n",
    "y1=np_utils.to_categorical(y)\n",
    "y1"
   ]
  },
  {
   "cell_type": "code",
   "execution_count": 24,
   "id": "4f89b28e",
   "metadata": {},
   "outputs": [
    {
     "name": "stdout",
     "output_type": "stream",
     "text": [
      "Model: \"model\"\n",
      "_________________________________________________________________\n",
      "Layer (type)                 Output Shape              Param #   \n",
      "=================================================================\n",
      "input_1 (InputLayer)         [(None, 40, 6)]           0         \n",
      "_________________________________________________________________\n",
      "lstm (LSTM)                  (None, 32)                4992      \n",
      "_________________________________________________________________\n",
      "dense (Dense)                (None, 128)               4224      \n",
      "_________________________________________________________________\n",
      "dense_1 (Dense)              (None, 64)                8256      \n",
      "_________________________________________________________________\n",
      "dense_2 (Dense)              (None, 16)                1040      \n",
      "_________________________________________________________________\n",
      "dense_3 (Dense)              (None, 8)                 136       \n",
      "_________________________________________________________________\n",
      "dense_4 (Dense)              (None, 4)                 36        \n",
      "=================================================================\n",
      "Total params: 18,684\n",
      "Trainable params: 18,684\n",
      "Non-trainable params: 0\n",
      "_________________________________________________________________\n",
      "Epoch 1/15\n",
      "1375/1375 [==============================] - 27s 18ms/step - loss: 0.4317 - accuracy: 0.9326 - val_loss: 0.4115 - val_accuracy: 0.9397\n"
     ]
    },
    {
     "name": "stderr",
     "output_type": "stream",
     "text": [
      "WARNING:absl:Found untraced functions such as lstm_cell_layer_call_and_return_conditional_losses, lstm_cell_layer_call_fn, lstm_cell_layer_call_fn, lstm_cell_layer_call_and_return_conditional_losses, lstm_cell_layer_call_and_return_conditional_losses while saving (showing 5 of 5). These functions will not be directly callable after loading.\n"
     ]
    },
    {
     "name": "stdout",
     "output_type": "stream",
     "text": [
      "INFO:tensorflow:Assets written to: modelnew\\assets\n"
     ]
    },
    {
     "name": "stderr",
     "output_type": "stream",
     "text": [
      "INFO:tensorflow:Assets written to: modelnew\\assets\n"
     ]
    },
    {
     "name": "stdout",
     "output_type": "stream",
     "text": [
      "Epoch 2/15\n",
      "1375/1375 [==============================] - 32s 23ms/step - loss: 0.3234 - accuracy: 0.9719 - val_loss: 0.3711 - val_accuracy: 0.9511\n"
     ]
    },
    {
     "name": "stderr",
     "output_type": "stream",
     "text": [
      "WARNING:absl:Found untraced functions such as lstm_cell_layer_call_and_return_conditional_losses, lstm_cell_layer_call_fn, lstm_cell_layer_call_fn, lstm_cell_layer_call_and_return_conditional_losses, lstm_cell_layer_call_and_return_conditional_losses while saving (showing 5 of 5). These functions will not be directly callable after loading.\n"
     ]
    },
    {
     "name": "stdout",
     "output_type": "stream",
     "text": [
      "INFO:tensorflow:Assets written to: modelnew\\assets\n"
     ]
    },
    {
     "name": "stderr",
     "output_type": "stream",
     "text": [
      "INFO:tensorflow:Assets written to: modelnew\\assets\n"
     ]
    },
    {
     "name": "stdout",
     "output_type": "stream",
     "text": [
      "Epoch 3/15\n",
      "1375/1375 [==============================] - 31s 23ms/step - loss: 0.2966 - accuracy: 0.9755 - val_loss: 0.3469 - val_accuracy: 0.9564\n"
     ]
    },
    {
     "name": "stderr",
     "output_type": "stream",
     "text": [
      "WARNING:absl:Found untraced functions such as lstm_cell_layer_call_and_return_conditional_losses, lstm_cell_layer_call_fn, lstm_cell_layer_call_fn, lstm_cell_layer_call_and_return_conditional_losses, lstm_cell_layer_call_and_return_conditional_losses while saving (showing 5 of 5). These functions will not be directly callable after loading.\n"
     ]
    },
    {
     "name": "stdout",
     "output_type": "stream",
     "text": [
      "INFO:tensorflow:Assets written to: modelnew\\assets\n"
     ]
    },
    {
     "name": "stderr",
     "output_type": "stream",
     "text": [
      "INFO:tensorflow:Assets written to: modelnew\\assets\n"
     ]
    },
    {
     "name": "stdout",
     "output_type": "stream",
     "text": [
      "Epoch 4/15\n",
      "1375/1375 [==============================] - 29s 21ms/step - loss: 0.2785 - accuracy: 0.9786 - val_loss: 0.3284 - val_accuracy: 0.9642\n"
     ]
    },
    {
     "name": "stderr",
     "output_type": "stream",
     "text": [
      "WARNING:absl:Found untraced functions such as lstm_cell_layer_call_and_return_conditional_losses, lstm_cell_layer_call_fn, lstm_cell_layer_call_fn, lstm_cell_layer_call_and_return_conditional_losses, lstm_cell_layer_call_and_return_conditional_losses while saving (showing 5 of 5). These functions will not be directly callable after loading.\n"
     ]
    },
    {
     "name": "stdout",
     "output_type": "stream",
     "text": [
      "INFO:tensorflow:Assets written to: modelnew\\assets\n"
     ]
    },
    {
     "name": "stderr",
     "output_type": "stream",
     "text": [
      "INFO:tensorflow:Assets written to: modelnew\\assets\n"
     ]
    },
    {
     "name": "stdout",
     "output_type": "stream",
     "text": [
      "Epoch 5/15\n",
      "1375/1375 [==============================] - 28s 21ms/step - loss: 0.2647 - accuracy: 0.9826 - val_loss: 0.3156 - val_accuracy: 0.9700\n"
     ]
    },
    {
     "name": "stderr",
     "output_type": "stream",
     "text": [
      "WARNING:absl:Found untraced functions such as lstm_cell_layer_call_and_return_conditional_losses, lstm_cell_layer_call_fn, lstm_cell_layer_call_fn, lstm_cell_layer_call_and_return_conditional_losses, lstm_cell_layer_call_and_return_conditional_losses while saving (showing 5 of 5). These functions will not be directly callable after loading.\n"
     ]
    },
    {
     "name": "stdout",
     "output_type": "stream",
     "text": [
      "INFO:tensorflow:Assets written to: modelnew\\assets\n"
     ]
    },
    {
     "name": "stderr",
     "output_type": "stream",
     "text": [
      "INFO:tensorflow:Assets written to: modelnew\\assets\n"
     ]
    },
    {
     "name": "stdout",
     "output_type": "stream",
     "text": [
      "Epoch 6/15\n",
      "1375/1375 [==============================] - 28s 21ms/step - loss: 0.2538 - accuracy: 0.9844 - val_loss: 0.3048 - val_accuracy: 0.9737\n"
     ]
    },
    {
     "name": "stderr",
     "output_type": "stream",
     "text": [
      "WARNING:absl:Found untraced functions such as lstm_cell_layer_call_and_return_conditional_losses, lstm_cell_layer_call_fn, lstm_cell_layer_call_fn, lstm_cell_layer_call_and_return_conditional_losses, lstm_cell_layer_call_and_return_conditional_losses while saving (showing 5 of 5). These functions will not be directly callable after loading.\n"
     ]
    },
    {
     "name": "stdout",
     "output_type": "stream",
     "text": [
      "INFO:tensorflow:Assets written to: modelnew\\assets\n"
     ]
    },
    {
     "name": "stderr",
     "output_type": "stream",
     "text": [
      "INFO:tensorflow:Assets written to: modelnew\\assets\n"
     ]
    },
    {
     "name": "stdout",
     "output_type": "stream",
     "text": [
      "Epoch 7/15\n",
      "1375/1375 [==============================] - 29s 21ms/step - loss: 0.2447 - accuracy: 0.9855 - val_loss: 0.2954 - val_accuracy: 0.9752\n"
     ]
    },
    {
     "name": "stderr",
     "output_type": "stream",
     "text": [
      "WARNING:absl:Found untraced functions such as lstm_cell_layer_call_and_return_conditional_losses, lstm_cell_layer_call_fn, lstm_cell_layer_call_fn, lstm_cell_layer_call_and_return_conditional_losses, lstm_cell_layer_call_and_return_conditional_losses while saving (showing 5 of 5). These functions will not be directly callable after loading.\n"
     ]
    },
    {
     "name": "stdout",
     "output_type": "stream",
     "text": [
      "INFO:tensorflow:Assets written to: modelnew\\assets\n"
     ]
    },
    {
     "name": "stderr",
     "output_type": "stream",
     "text": [
      "INFO:tensorflow:Assets written to: modelnew\\assets\n"
     ]
    },
    {
     "name": "stdout",
     "output_type": "stream",
     "text": [
      "Epoch 8/15\n",
      "1375/1375 [==============================] - 29s 21ms/step - loss: 0.2370 - accuracy: 0.9858 - val_loss: 0.2866 - val_accuracy: 0.9757\n"
     ]
    },
    {
     "name": "stderr",
     "output_type": "stream",
     "text": [
      "WARNING:absl:Found untraced functions such as lstm_cell_layer_call_and_return_conditional_losses, lstm_cell_layer_call_fn, lstm_cell_layer_call_fn, lstm_cell_layer_call_and_return_conditional_losses, lstm_cell_layer_call_and_return_conditional_losses while saving (showing 5 of 5). These functions will not be directly callable after loading.\n"
     ]
    },
    {
     "name": "stdout",
     "output_type": "stream",
     "text": [
      "INFO:tensorflow:Assets written to: modelnew\\assets\n"
     ]
    },
    {
     "name": "stderr",
     "output_type": "stream",
     "text": [
      "INFO:tensorflow:Assets written to: modelnew\\assets\n"
     ]
    },
    {
     "name": "stdout",
     "output_type": "stream",
     "text": [
      "Epoch 9/15\n",
      "1375/1375 [==============================] - 28s 21ms/step - loss: 0.2303 - accuracy: 0.9860 - val_loss: 0.2789 - val_accuracy: 0.9764\n"
     ]
    },
    {
     "name": "stderr",
     "output_type": "stream",
     "text": [
      "WARNING:absl:Found untraced functions such as lstm_cell_layer_call_and_return_conditional_losses, lstm_cell_layer_call_fn, lstm_cell_layer_call_fn, lstm_cell_layer_call_and_return_conditional_losses, lstm_cell_layer_call_and_return_conditional_losses while saving (showing 5 of 5). These functions will not be directly callable after loading.\n"
     ]
    },
    {
     "name": "stdout",
     "output_type": "stream",
     "text": [
      "INFO:tensorflow:Assets written to: modelnew\\assets\n"
     ]
    },
    {
     "name": "stderr",
     "output_type": "stream",
     "text": [
      "INFO:tensorflow:Assets written to: modelnew\\assets\n"
     ]
    },
    {
     "name": "stdout",
     "output_type": "stream",
     "text": [
      "Epoch 10/15\n",
      "1375/1375 [==============================] - 28s 21ms/step - loss: 0.2244 - accuracy: 0.9862 - val_loss: 0.2729 - val_accuracy: 0.9766\n"
     ]
    },
    {
     "name": "stderr",
     "output_type": "stream",
     "text": [
      "WARNING:absl:Found untraced functions such as lstm_cell_layer_call_and_return_conditional_losses, lstm_cell_layer_call_fn, lstm_cell_layer_call_fn, lstm_cell_layer_call_and_return_conditional_losses, lstm_cell_layer_call_and_return_conditional_losses while saving (showing 5 of 5). These functions will not be directly callable after loading.\n"
     ]
    },
    {
     "name": "stdout",
     "output_type": "stream",
     "text": [
      "INFO:tensorflow:Assets written to: modelnew\\assets\n"
     ]
    },
    {
     "name": "stderr",
     "output_type": "stream",
     "text": [
      "INFO:tensorflow:Assets written to: modelnew\\assets\n"
     ]
    },
    {
     "name": "stdout",
     "output_type": "stream",
     "text": [
      "Epoch 11/15\n",
      "1375/1375 [==============================] - 28s 21ms/step - loss: 0.2190 - accuracy: 0.9864 - val_loss: 0.2676 - val_accuracy: 0.9769\n"
     ]
    },
    {
     "name": "stderr",
     "output_type": "stream",
     "text": [
      "WARNING:absl:Found untraced functions such as lstm_cell_layer_call_and_return_conditional_losses, lstm_cell_layer_call_fn, lstm_cell_layer_call_fn, lstm_cell_layer_call_and_return_conditional_losses, lstm_cell_layer_call_and_return_conditional_losses while saving (showing 5 of 5). These functions will not be directly callable after loading.\n"
     ]
    },
    {
     "name": "stdout",
     "output_type": "stream",
     "text": [
      "INFO:tensorflow:Assets written to: modelnew\\assets\n"
     ]
    },
    {
     "name": "stderr",
     "output_type": "stream",
     "text": [
      "INFO:tensorflow:Assets written to: modelnew\\assets\n"
     ]
    },
    {
     "name": "stdout",
     "output_type": "stream",
     "text": [
      "Epoch 12/15\n",
      "1375/1375 [==============================] - 28s 21ms/step - loss: 0.2142 - accuracy: 0.9865 - val_loss: 0.2621 - val_accuracy: 0.9770\n"
     ]
    },
    {
     "name": "stderr",
     "output_type": "stream",
     "text": [
      "WARNING:absl:Found untraced functions such as lstm_cell_layer_call_and_return_conditional_losses, lstm_cell_layer_call_fn, lstm_cell_layer_call_fn, lstm_cell_layer_call_and_return_conditional_losses, lstm_cell_layer_call_and_return_conditional_losses while saving (showing 5 of 5). These functions will not be directly callable after loading.\n"
     ]
    },
    {
     "name": "stdout",
     "output_type": "stream",
     "text": [
      "INFO:tensorflow:Assets written to: modelnew\\assets\n"
     ]
    },
    {
     "name": "stderr",
     "output_type": "stream",
     "text": [
      "INFO:tensorflow:Assets written to: modelnew\\assets\n"
     ]
    },
    {
     "name": "stdout",
     "output_type": "stream",
     "text": [
      "Epoch 13/15\n",
      "1375/1375 [==============================] - 28s 21ms/step - loss: 0.2097 - accuracy: 0.9865 - val_loss: 0.2575 - val_accuracy: 0.9770\n"
     ]
    },
    {
     "name": "stderr",
     "output_type": "stream",
     "text": [
      "WARNING:absl:Found untraced functions such as lstm_cell_layer_call_and_return_conditional_losses, lstm_cell_layer_call_fn, lstm_cell_layer_call_fn, lstm_cell_layer_call_and_return_conditional_losses, lstm_cell_layer_call_and_return_conditional_losses while saving (showing 5 of 5). These functions will not be directly callable after loading.\n"
     ]
    },
    {
     "name": "stdout",
     "output_type": "stream",
     "text": [
      "INFO:tensorflow:Assets written to: modelnew\\assets\n"
     ]
    },
    {
     "name": "stderr",
     "output_type": "stream",
     "text": [
      "INFO:tensorflow:Assets written to: modelnew\\assets\n"
     ]
    },
    {
     "name": "stdout",
     "output_type": "stream",
     "text": [
      "Epoch 14/15\n",
      "1375/1375 [==============================] - 28s 21ms/step - loss: 0.2057 - accuracy: 0.9867 - val_loss: 0.2534 - val_accuracy: 0.9770\n"
     ]
    },
    {
     "name": "stderr",
     "output_type": "stream",
     "text": [
      "WARNING:absl:Found untraced functions such as lstm_cell_layer_call_and_return_conditional_losses, lstm_cell_layer_call_fn, lstm_cell_layer_call_fn, lstm_cell_layer_call_and_return_conditional_losses, lstm_cell_layer_call_and_return_conditional_losses while saving (showing 5 of 5). These functions will not be directly callable after loading.\n"
     ]
    },
    {
     "name": "stdout",
     "output_type": "stream",
     "text": [
      "INFO:tensorflow:Assets written to: modelnew\\assets\n"
     ]
    },
    {
     "name": "stderr",
     "output_type": "stream",
     "text": [
      "INFO:tensorflow:Assets written to: modelnew\\assets\n"
     ]
    },
    {
     "name": "stdout",
     "output_type": "stream",
     "text": [
      "Epoch 15/15\n",
      "1375/1375 [==============================] - 29s 21ms/step - loss: 0.2019 - accuracy: 0.9867 - val_loss: 0.2492 - val_accuracy: 0.9776\n"
     ]
    },
    {
     "name": "stderr",
     "output_type": "stream",
     "text": [
      "WARNING:absl:Found untraced functions such as lstm_cell_layer_call_and_return_conditional_losses, lstm_cell_layer_call_fn, lstm_cell_layer_call_fn, lstm_cell_layer_call_and_return_conditional_losses, lstm_cell_layer_call_and_return_conditional_losses while saving (showing 5 of 5). These functions will not be directly callable after loading.\n"
     ]
    },
    {
     "name": "stdout",
     "output_type": "stream",
     "text": [
      "INFO:tensorflow:Assets written to: modelnew\\assets\n"
     ]
    },
    {
     "name": "stderr",
     "output_type": "stream",
     "text": [
      "INFO:tensorflow:Assets written to: modelnew\\assets\n"
     ]
    },
    {
     "name": "stdout",
     "output_type": "stream",
     "text": [
      "553.462100982666\n",
      "predicted output =>  [[8.5829763e-04 9.9219632e-01 2.5531941e-03 4.3922109e-03]\n",
      " [8.8499300e-04 9.9195236e-01 2.6899246e-03 4.4726315e-03]\n",
      " [9.2058117e-04 9.9163789e-01 2.8481691e-03 4.5932410e-03]\n",
      " ...\n",
      " [9.8778462e-01 1.3708872e-03 3.0346173e-03 7.8098099e-03]\n",
      " [9.8778462e-01 1.3708872e-03 3.0346173e-03 7.8098099e-03]\n",
      " [9.8778462e-01 1.3708872e-03 3.0346173e-03 7.8098099e-03]]\n"
     ]
    }
   ],
   "source": [
    "#training\n",
    "import time \n",
    "start = time.time()\n",
    "model = define_model()\n",
    "# Fit the model\n",
    "history=model.fit(X_train, y_train, validation_data=(X_val, y_val), epochs =15,callbacks=[es, rlr, cp4, tb])\n",
    "# Take a test data to test the working of the model\n",
    "pred = model.predict(X_test)\n",
    "end = time.time()\n",
    "print(end - start)\n",
    "print(\"predicted output => \",pred)"
   ]
  },
  {
   "cell_type": "code",
   "execution_count": 25,
   "id": "aa588368",
   "metadata": {},
   "outputs": [
    {
     "name": "stdout",
     "output_type": "stream",
     "text": [
      "Train\n",
      "Accuracy between the prediction and the actual value:  0.9866966844044208\n",
      "Total number of errors:  585\n",
      "Val\n",
      "Accuracy between the prediction and the actual value:  0.9776345113021331\n",
      "Total number of errors:  281\n",
      "Test\n",
      "Accuracy between the prediction and the actual value:  0.980284489070181\n",
      "Total number of errors:  377\n"
     ]
    }
   ],
   "source": [
    "#on three videos 1->train 2->val 3->test\n",
    "print('Train')\n",
    "finalcheck(model,X_train,y_train)\n",
    "print('Val')\n",
    "finalcheck(model,X_val,y_val)\n",
    "print('Test')\n",
    "finalcheck(model,X_test,y_test)"
   ]
  },
  {
   "cell_type": "code",
   "execution_count": 26,
   "id": "12ad6bcb",
   "metadata": {},
   "outputs": [],
   "source": [
    "predb=binaryresult(pred)\n",
    "real=sp1[(43974+12564):]"
   ]
  },
  {
   "cell_type": "code",
   "execution_count": 25,
   "id": "921e2c8c",
   "metadata": {},
   "outputs": [
    {
     "data": {
      "image/png": "[encoded data removed]",
      "text/plain": [
       "<Figure size 720x576 with 2 Axes>"
      ]
     },
     "metadata": {
      "needs_background": "light"
     },
     "output_type": "display_data"
    }
   ],
   "source": [
    "cm = confusion_matrix(real, predb,normalize='all')\n",
    "cm_df = pd.DataFrame(cm,\n",
    "                     index = ['Person1','Person2','Overlapping','Silence'], \n",
    "                     columns = ['Person1','Person2','Overlapping','Silence'])\n",
    "#Plotting the confusion matrix\n",
    "plt.figure(figsize=(10,8))\n",
    "ax=sns.heatmap(cm_df, annot=True)\n",
    "ax.collections[0].colorbar.set_label('Percentage of labels',fontsize=20)\n",
    "plt.ylabel('Actual Values',fontsize=20)\n",
    "plt.xlabel('Predicted Values',fontsize=20)\n",
    "plt.xticks(fontsize=17)\n",
    "plt.yticks(fontsize=17)\n",
    "plt.savefig('Confmatrixlstmallnosp',bbox='tight_layout',dpi=100)\n",
    "plt.show()"
   ]
  },
  {
   "cell_type": "code",
   "execution_count": 28,
   "id": "cfc263d3",
   "metadata": {},
   "outputs": [
    {
     "name": "stdout",
     "output_type": "stream",
     "text": [
      "[[0. 1. 0. 0.]\n",
      " [0. 1. 0. 0.]\n",
      " [0. 1. 0. 0.]\n",
      " ...\n",
      " [1. 0. 0. 0.]\n",
      " [1. 0. 0. 0.]\n",
      " [0. 0. 0. 1.]]\n",
      "[[8.5829763e-04 9.9219632e-01 2.5531941e-03 4.3922109e-03]\n",
      " [8.8499300e-04 9.9195236e-01 2.6899246e-03 4.4726315e-03]\n",
      " [9.2058117e-04 9.9163789e-01 2.8481691e-03 4.5932410e-03]\n",
      " ...\n",
      " [9.8778462e-01 1.3708872e-03 3.0346173e-03 7.8098099e-03]\n",
      " [9.8778462e-01 1.3708872e-03 3.0346173e-03 7.8098099e-03]\n",
      " [9.8778462e-01 1.3708872e-03 3.0346173e-03 7.8098099e-03]]\n",
      "train 0.9866966605186462\n",
      "val 0.9776344895362854\n",
      "test 0.9802845120429993\n"
     ]
    }
   ],
   "source": [
    "print(y_test)\n",
    "print(pred)\n",
    "_, train_acc = model.evaluate(X_train, y_train, verbose=0)\n",
    "_, val_acc = model.evaluate(X_val, y_val, verbose=0)\n",
    "_, test_acc = model.evaluate(X_test, y_test, verbose=0)\n",
    "print('train',train_acc)\n",
    "print('val',val_acc)\n",
    "print('test',test_acc)"
   ]
  },
  {
   "cell_type": "code",
   "execution_count": 36,
   "id": "ef6418f2",
   "metadata": {},
   "outputs": [
    {
     "data": {
      "image/png": "[encoded data removed]",
      "text/plain": [
       "<Figure size 432x288 with 1 Axes>"
      ]
     },
     "metadata": {
      "needs_background": "light"
     },
     "output_type": "display_data"
    },
    {
     "data": {
      "image/png": "[encoded data removed]",
      "text/plain": [
       "<Figure size 432x288 with 1 Axes>"
      ]
     },
     "metadata": {
      "needs_background": "light"
     },
     "output_type": "display_data"
    }
   ],
   "source": [
    "acc_loss(history) #plot accuracy and loss"
   ]
  },
  {
   "cell_type": "code",
   "execution_count": null,
   "id": "d20886b3",
   "metadata": {},
   "outputs": [],
   "source": []
  }
 ],
 "metadata": {
  "kernelspec": {
   "display_name": "Python 3 (ipykernel)",
   "language": "python",
   "name": "python3"
  },
  "language_info": {
   "codemirror_mode": {
    "name": "ipython",
    "version": 3
   },
   "file_extension": ".py",
   "mimetype": "text/x-python",
   "name": "python",
   "nbconvert_exporter": "python",
   "pygments_lexer": "ipython3",
   "version": "3.9.7"
  }
 },
 "nbformat": 4,
 "nbformat_minor": 5
}
