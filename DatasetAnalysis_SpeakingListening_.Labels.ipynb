{
 "cells": [
  {
   "cell_type": "code",
   "execution_count": 1,
   "id": "f010800f",
   "metadata": {},
   "outputs": [],
   "source": [
    "#!/usr/bin/env python\n",
    "import cv2\n",
    "import matplotlib\n",
    "import nbconvert\n",
    "import matplotlib.pyplot as plt\n",
    "import csv\n",
    "import numpy as np\n",
    "import os\n",
    "import sys\n",
    "from numpy import vstack\n",
    "from numpy import argmax\n",
    "from pandas import read_csv\n",
    "from sklearn.preprocessing import LabelEncoder\n",
    "from sklearn.metrics import accuracy_score\n",
    "from numpy import vstack\n",
    "from pandas import read_csv\n",
    "\n",
    "#Function for the creation of a 3d matrix\n",
    "def ThreeD(a, b, c):\n",
    "    lst = [[ ['0' for col in range(a)] for col in range(b)] for row in range(c)]\n",
    "    return lst"
   ]
  },
  {
   "cell_type": "code",
   "execution_count": 2,
   "id": "0b6adba7",
   "metadata": {},
   "outputs": [],
   "source": [
    "def openCSV(filename):\n",
    "    \"\"\"\n",
    "    Converts a CSV file into an array.\n",
    "\n",
    "    Parameters\n",
    "    ----------\n",
    "    filename: str, the file in question\n",
    "\n",
    "    Return\n",
    "    ------\n",
    "    arr : Any array, the array encoded in the CSV file\n",
    "    \"\"\"\n",
    "    rows = []\n",
    "    with open(filename) as csvfile:\n",
    "        reader = csv.reader(csvfile)\n",
    "        for row in reader:\n",
    "            rows.append(row)\n",
    "    arr = np.array(rows)\n",
    "    return arr"
   ]
  },
  {
   "cell_type": "code",
   "execution_count": 3,
   "id": "a9cf64cc",
   "metadata": {},
   "outputs": [
    {
     "name": "stdout",
     "output_type": "stream",
     "text": [
      "LABELS array shape = (36000, 828)\n"
     ]
    }
   ],
   "source": [
    "# Trackbars callback functions\n",
    "datasetPath='C:/Users/Lucrezia/Desktop/Internship/MNM_version2-Revision17/Mingle/'\n",
    "\n",
    "# LABELS\n",
    "try:\n",
    "    filename = datasetPath+'manual_annotations/LABELS.csv'\n",
    "    labels = openCSV(filename).astype(np.int64)\n",
    "except FileNotFoundError:\n",
    "    filename = datasetPath+'manual_annotations/_LABELS.csv'\n",
    "    labels = openCSV(filename).astype(np.int64)\n",
    "print(\"LABELS array shape =\", labels.shape)"
   ]
  },
  {
   "cell_type": "code",
   "execution_count": 4,
   "id": "0e22defa",
   "metadata": {},
   "outputs": [],
   "source": [
    "N,M= labels.shape\n",
    "dataset=ThreeD(9, int(M/9), int(N))\n",
    "\n",
    "for i in range (0,N):\n",
    "    for j in range(0,M):\n",
    "        dataset[i][int(j/9)][j%9]=(labels[i][j])"
   ]
  },
  {
   "cell_type": "code",
   "execution_count": 5,
   "id": "196421fe",
   "metadata": {},
   "outputs": [
    {
     "name": "stdout",
     "output_type": "stream",
     "text": [
      "LABELS array shape = (69, 5)\n"
     ]
    }
   ],
   "source": [
    "# Trackbars callback functions\n",
    "DAY=1\n",
    "# LABELS\n",
    "try:\n",
    "    filename1 = datasetPath+'manual_annotations/F-formationsGT/Day'+str(DAY)+'.csv'\n",
    "    labels1 = openCSV(filename1)\n",
    "except FileNotFoundError:\n",
    "    filename1 = datasetPath+'manual_annotations/F-formationsGT/Day'+str(DAY)+'.csv'\n",
    "    labels1 = openCSV(filename1).astype(np.int64)\n",
    "print(\"LABELS array shape =\", labels1.shape)\n",
    "M1,N1=labels1.shape"
   ]
  },
  {
   "cell_type": "code",
   "execution_count": 6,
   "id": "6a09a95b",
   "metadata": {},
   "outputs": [],
   "source": [
    "def partcounter(numbers): \n",
    "    a=' '\n",
    "    cardinality=0\n",
    "    for i in numbers:\n",
    "        if i!=' ' and a==' ':\n",
    "            cardinality+=1\n",
    "            a='a'\n",
    "        else:\n",
    "            cardinality=cardinality\n",
    "            a=' '  \n",
    "    return cardinality\n",
    "def timetofloat(val):\n",
    "    s=list(val)\n",
    "    for i in range(0,len(val)):\n",
    "        if val[i] != ':':\n",
    "            s[i]=float(val[i])\n",
    "        elif val[i]==':':\n",
    "            print(val[i])\n",
    "    return(s)"
   ]
  },
  {
   "cell_type": "code",
   "execution_count": 7,
   "id": "33a0e087",
   "metadata": {},
   "outputs": [],
   "source": [
    "def litoint(x):\n",
    "    val=[]\n",
    "    val2=[]\n",
    "    count=0\n",
    "    for i in x: \n",
    "        if i!=' ' and count==0:\n",
    "            val.append(i)\n",
    "        elif i!=' ' and count==1:\n",
    "            val2.append(i)\n",
    "        else:\n",
    "            count=1 \n",
    "    s = [str(integer) for integer in val]\n",
    "    a_string = \"\".join(s)\n",
    "    res = int(a_string)\n",
    "    \n",
    "    s1 = [str(integer) for integer in val2]\n",
    "    a_string1 = \"\".join(s1)\n",
    "    res1 = int(a_string1)\n",
    "    return([res,res1])"
   ]
  },
  {
   "cell_type": "code",
   "execution_count": 8,
   "id": "d925c025",
   "metadata": {},
   "outputs": [],
   "source": [
    "#this function will automaticall give the total ID, as input it needs the daily ID,the numer of the day, and the path\n",
    "def realID(s,day,datasetPath):\n",
    "    cont=0\n",
    "    try:\n",
    "        filename1 = datasetPath+'manual_annotations/PARTICIPANTS.csv'\n",
    "        labels1 = openCSV(filename1)\n",
    "    except FileNotFoundError:\n",
    "        filename1 = datasetPath+'manual_annotations/_PARTICIPANTS.csv'\n",
    "        labels1 = openCSV(filename1).astype(np.int64)\n",
    "    for i in labels1:\n",
    "        cont+=1\n",
    "        if int(i[0])==DAY:\n",
    "            if int(i[1])==s:\n",
    "                return(cont)"
   ]
  },
  {
   "cell_type": "code",
   "execution_count": 11,
   "id": "ed130483",
   "metadata": {},
   "outputs": [],
   "source": [
    "M1,N1=labels1.shape\n",
    "liscoupl=[]\n",
    "for i in range(0,M1):\n",
    "    if i!=0:\n",
    "        if partcounter(labels1[i][0])==2:\n",
    "            s=litoint(labels1[i][0])\n",
    "            k=[]\n",
    "            k.append(realID(s[0],DAY,datasetPath))\n",
    "            k.append(realID(s[1],DAY,datasetPath))\n",
    "            liscoupl.append([k,int(labels1[i][3]),int(labels1[i][4])])"
   ]
  },
  {
   "cell_type": "code",
   "execution_count": 12,
   "id": "9d57f84c",
   "metadata": {},
   "outputs": [
    {
     "name": "stdout",
     "output_type": "stream",
     "text": [
      "[[[3, 29], 12000, 16880], [[2, 14], 12000, 17340], [[12, 17], 12000, 17340], [[5, 22], 12000, 24000], [[10, 25], 12000, 24000], [[1, 4], 12000, 16160], [[21, 23], 12260, 12640], [[15, 26], 12640, 14140], [[13, 23], 13740, 13960], [[13, 21], 13960, 14040], [[9, 28], 14580, 14960], [[3, 18], 17720, 19640], [[8, 28], 18340, 19700], [[13, 23], 18060, 22020], [[15, 21], 18060, 22020], [[2, 9], 18340, 18500], [[12, 17], 18500, 24000], [[20, 30], 18500, 19360], [[20, 30], 19540, 22260], [[4, 26], 19540, 20060], [[8, 28], 20200, 24000], [[4, 26], 20640, 23060], [[30, 31], 22360, 24000], [[3, 29], 22480, 24000]]\n"
     ]
    }
   ],
   "source": [
    "print(liscoupl)"
   ]
  },
  {
   "cell_type": "code",
   "execution_count": 13,
   "id": "99b62d24",
   "metadata": {},
   "outputs": [],
   "source": [
    "def divisory(y,frames):\n",
    "    lista=[]\n",
    "    count=0\n",
    "    for i in range((frames),len(y)):\n",
    "        lista.append([y[i]])\n",
    "        count+=1\n",
    "    lista.append([4])\n",
    "    return(lista)"
   ]
  },
  {
   "cell_type": "code",
   "execution_count": 14,
   "id": "fbe1b95a",
   "metadata": {},
   "outputs": [],
   "source": [
    "#label creation\n",
    "speaker=[]\n",
    "spdata=[]\n",
    "temp=[]\n",
    "check=[]\n",
    "for j in range(0,len(liscoupl)):\n",
    "        temp=[]\n",
    "        #print('s',speaker)\n",
    "        for i in range (0,N):\n",
    "            personid1 = liscoupl[j][0][0]-1\n",
    "            personid2 = liscoupl[j][0][1]-1\n",
    "            if i>liscoupl[j][1] and i<liscoupl[j][2]:\n",
    "                if dataset[i][personid1][3]==1 and dataset[i][personid2][3]==0:\n",
    "                    temp.append(0)\n",
    "                    spdata.append(0)\n",
    "                elif dataset[i][personid1][3]==0 and dataset[i][personid2][3]==1:\n",
    "                    temp.append(1)\n",
    "                    spdata.append(1)\n",
    "                elif dataset[i][personid1][3]==0 and dataset[i][personid2][3]==0:\n",
    "                    temp.append(3)\n",
    "                    spdata.append(3)\n",
    "                elif dataset[i][personid1][3]==1 and dataset[i][personid2][3]==1: \n",
    "                    temp.append(2)\n",
    "                    spdata.append(2)\n",
    "                else:\n",
    "                    pass\n",
    "        check.extend(temp)\n",
    "        temp.pop(0)\n",
    "        temp.append(3)\n",
    "        speaker.extend(temp)"
   ]
  },
  {
   "cell_type": "code",
   "execution_count": 15,
   "id": "9fc851ee",
   "metadata": {},
   "outputs": [
    {
     "name": "stdout",
     "output_type": "stream",
     "text": [
      "76596\n"
     ]
    }
   ],
   "source": [
    "print(len(speaker))"
   ]
  },
  {
   "cell_type": "code",
   "execution_count": 17,
   "id": "d68782ac",
   "metadata": {},
   "outputs": [],
   "source": [
    "import sys\n",
    "import csv\n",
    "maxInt = sys.maxsize\n",
    "listprov=[]\n",
    "while True:\n",
    "    # decrease the maxInt value by factor 10 \n",
    "    # as long as the OverflowError occurs.\n",
    "\n",
    "    try:\n",
    "        csv.field_size_limit(maxInt)\n",
    "        break\n",
    "    except OverflowError:\n",
    "        maxInt = int(maxInt/10)\n",
    "tempo=-1\n",
    "with open('couplesalldayprova.csv', 'w',newline='') as csvfile:\n",
    "    biglist=[]\n",
    "    biglist2=[]\n",
    "    writer = csv.writer(csvfile)\n",
    "    for j in range(0,len(liscoupl)):\n",
    "        for i in range (0,N):\n",
    "            personid1 = liscoupl[j][0][0]-1\n",
    "            personid2 = liscoupl[j][0][1]-1\n",
    "            if i>liscoupl[j][1] and i<liscoupl[j][2]:\n",
    "                tempo+=1\n",
    "                listprov.append([dataset[i][personid1][0],dataset[i][personid1][1],dataset[i][personid1][2],dataset[i][personid1][3],dataset[i][personid1][4],dataset[i][personid1][5],dataset[i][personid1][6],dataset[i][personid1][7],dataset[i][personid2][0],dataset[i][personid2][1],dataset[i][personid2][2],dataset[i][personid2][3],dataset[i][personid2][4],dataset[i][personid2][5],dataset[i][personid2][6],dataset[i][personid2][7],spdata[tempo]])\n",
    "                if (dataset[i][personid1][3]==1 and dataset[i][personid2][3]==0) and spdata[tempo]==0:\n",
    "                    pass\n",
    "                elif (dataset[i][personid1][3]==0 and dataset[i][personid2][3]==1) and spdata[tempo]==1:\n",
    "                    pass\n",
    "                elif (dataset[i][personid1][3]==0 and dataset[i][personid2][3]==0) and spdata[tempo]==3:\n",
    "                    pass\n",
    "                elif (dataset[i][personid1][3]==1 and dataset[i][personid2][3]==1) and spdata[tempo]==2: \n",
    "                    pass\n",
    "                else: \n",
    "                    print('ERRORE')\n",
    "                    print(dataset[i][personid1][3])\n",
    "                    print(dataset[i][personid2][3])\n",
    "                    print(speaker[tempo])\n",
    "        biglist2.extend(listprov)       \n",
    "        writer.writerow([listprov])"
   ]
  },
  {
   "cell_type": "code",
   "execution_count": 176,
   "id": "5d8b9036",
   "metadata": {},
   "outputs": [],
   "source": [
    "Walkingl=0\n",
    "Steppingl=0\n",
    "Drinkingl=0\n",
    "Speakingl=0\n",
    "Hand_Gesturel=0\n",
    "Head_Gesturel=0\n",
    "Laughl=0\n",
    "Hair_Touchingl=0\n",
    "temp1l=[]\n",
    "cont1l=0\n",
    "\n",
    "Walkings=0\n",
    "Steppings=0\n",
    "Drinkings=0\n",
    "Speakings=0\n",
    "Hand_Gestures=0\n",
    "Head_Gestures=0\n",
    "Laughs=0\n",
    "Hair_Touchings=0\n",
    "temp1s=[]\n",
    "cont1s=0\n",
    "sp=0\n",
    "con2=0\n",
    "conttot=0\n",
    "for i in range(len(speaker)-1):\n",
    "    if listprov[i][16]==0:\n",
    "        sp=0\n",
    "    elif listprov[i][16]==1:\n",
    "        sp=1\n",
    "    elif listprov[i][16]==2:\n",
    "        cont+=1\n",
    "    if listprov[i][16]!=2:\n",
    "        cont=0\n",
    "    if listprov[i][16]==2 and speaker[i]==1 and sp==0 :\n",
    "        Walkingl+=listprov[i][0]\n",
    "        Steppingl+=listprov[i][1]\n",
    "        Drinkingl+=listprov[i][2]\n",
    "        Speakingl+=listprov[i][3]\n",
    "        Hand_Gesturel+=listprov[i][4]\n",
    "        Head_Gesturel+=listprov[i][5]\n",
    "        Laughl+=listprov[i][6]\n",
    "        Hair_Touchingl+=listprov[i][7]\n",
    "        cont1l+=1\n",
    "        temp1l.append(cont1l)\n",
    "        \n",
    "        Walkings+=listprov[i-cont][8]\n",
    "        Steppings+=listprov[i-cont][9]\n",
    "        Drinkings+=listprov[i-cont][10]\n",
    "        Speakings+=listprov[i-cont][11]\n",
    "        Hand_Gestures+=listprov[i-cont][12]\n",
    "        Head_Gestures+=listprov[i-cont][13]\n",
    "        Laughs+=listprov[i-cont][14]\n",
    "        Hair_Touchings+=listprov[i-cont][15]\n",
    "        cont1s+=1\n",
    "        temp1s.append(cont1s)\n",
    "\n",
    "    if (listprov[i][16]==0 and speaker[i]==1) or (listprov[i][16]==3 and speaker[i]==1 and sp==0) :#person 0 speaking and nextperson 1\n",
    "        Walkingl+=listprov[i][0]\n",
    "        Steppingl+=listprov[i][1]\n",
    "        Drinkingl+=listprov[i][2]\n",
    "        Speakingl+=listprov[i][3]\n",
    "        Hand_Gesturel+=listprov[i][4]\n",
    "        Head_Gesturel+=listprov[i][5]\n",
    "        Laughl+=listprov[i][6]\n",
    "        Hair_Touchingl+=listprov[i][7]\n",
    "        cont1l+=1\n",
    "        temp1l.append(cont1l)\n",
    "\n",
    "        Walkings+=listprov[i][8]\n",
    "        Steppings+=listprov[i][9]\n",
    "        Drinkings+=listprov[i][10]\n",
    "        Speakings+=listprov[i][11]\n",
    "        Hand_Gestures+=listprov[i][12]\n",
    "        Head_Gestures+=listprov[i][13]\n",
    "        Laughs+=listprov[i][14]\n",
    "        Hair_Touchings+=listprov[i][15]\n",
    "        cont1s+=1\n",
    "        temp1s.append(cont1s)\n",
    "        \n",
    "    if listprov[i][16]==2 and speaker[i]==0 and sp==1:\n",
    "        Walkingl+=listprov[i][7]\n",
    "        Walkingl+=listprov[i][8]\n",
    "        Steppingl+=listprov[i][9]\n",
    "        Drinkingl+=listprov[i][10]\n",
    "        Speakingl+=listprov[i][11]\n",
    "        Hand_Gesturel+=listprov[i][12]\n",
    "        Head_Gesturel+=listprov[i][13]\n",
    "        Laughl+=listprov[i][14]\n",
    "        Hair_Touchingl+=listprov[i][15]\n",
    "        cont1l+=1\n",
    "        temp1l.append(cont1l)\n",
    "\n",
    "        Walkings+=listprov[i-cont][0]\n",
    "        Steppings+=listprov[i-cont][1]\n",
    "        Drinkings+=listprov[i-cont][2]\n",
    "        Speakings+=listprov[i-cont][3]\n",
    "        Hand_Gestures+=listprov[i-cont][4]\n",
    "        Head_Gestures+=listprov[i-cont][5]\n",
    "        Laughs+=listprov[i-cont][6]\n",
    "        Hair_Touchings+=listprov[i-cont][7]\n",
    "        cont1s+=1\n",
    "        temp1s.append(cont1s)\n",
    "        \n",
    "    if (listprov[i][16]==1 and speaker[i]==0) or (listprov[i][16]==3 and speaker[i]==0 and sp==1):#person 1 speaking and nextperson 0\n",
    "        Walkingl+=listprov[i][7]\n",
    "        Walkingl+=listprov[i][8]\n",
    "        Steppingl+=listprov[i][9]\n",
    "        Drinkingl+=listprov[i][10]\n",
    "        Speakingl+=listprov[i][11]\n",
    "        Hand_Gesturel+=listprov[i][12]\n",
    "        Head_Gesturel+=listprov[i][13]\n",
    "        Laughl+=listprov[i][14]\n",
    "        Hair_Touchingl+=listprov[i][15]\n",
    "        cont1l+=1\n",
    "        temp1l.append(cont1l)\n",
    "\n",
    "        Walkings+=listprov[i][0]\n",
    "        Steppings+=listprov[i][1]\n",
    "        Drinkings+=listprov[i][2]\n",
    "        Speakings+=listprov[i][3]\n",
    "        Hand_Gestures+=listprov[i][4]\n",
    "        Head_Gestures+=listprov[i][5]\n",
    "        Laughs+=listprov[i][6]\n",
    "        Hair_Touchings+=listprov[i][7]\n",
    "        cont1s+=1\n",
    "        temp1s.append(cont1s)   "
   ]
  },
  {
   "cell_type": "code",
   "execution_count": 135,
   "id": "2c403151",
   "metadata": {},
   "outputs": [
    {
     "name": "stdout",
     "output_type": "stream",
     "text": [
      "Next Speaker Before Turn Changing\n",
      "318\n",
      "Walking:  1  Perc:  0.3144654088050315\n",
      "Stepping:  48  Perc:  15.09433962264151\n",
      "Drinking:  3  Perc:  0.9433962264150944\n",
      "Speaking:  0  Perc:  0.0\n",
      "Hand_Gesture:  73  Perc:  22.955974842767297\n",
      "Head_Gesture:  70  Perc:  22.0125786163522\n",
      "Laugh:  8  Perc:  2.515723270440252\n",
      "Hair_Touching:  17  Perc:  5.345911949685535\n",
      "Next Listener Before Turn Changing \n",
      "318\n",
      "Walking:  13  Perc:  4.088050314465408\n",
      "Stepping:  31  Perc:  9.748427672955975\n",
      "Drinking:  13  Perc:  4.088050314465408\n",
      "Speaking:  154  Perc:  48.42767295597484\n",
      "Hand_Gesture:  86  Perc:  27.044025157232703\n",
      "Head_Gesture:  41  Perc:  12.89308176100629\n",
      "Laugh:  10  Perc:  3.1446540880503147\n",
      "Hair_Touching:  22  Perc:  6.918238993710692\n"
     ]
    }
   ],
   "source": [
    "#Day 1\n",
    "print('Next Speaker Before Turn Changing')\n",
    "print(cont1s)\n",
    "print('Walking: ',Walkings,' Perc: ', (Walkings/cont1s)*100)\n",
    "print('Stepping: ',Steppings,' Perc: ', (Steppings/cont1s)*100)\n",
    "print('Drinking: ',Drinkings,' Perc: ', (Drinkings/cont1s)*100)\n",
    "print('Speaking: ',Speakings,' Perc: ', (Speakings/cont1s)*100)\n",
    "print('Hand_Gesture: ',Hand_Gestures,' Perc: ', (Hand_Gestures/cont1s)*100)\n",
    "print('Head_Gesture: ',Head_Gestures,' Perc: ', (Head_Gestures/cont1s)*100)\n",
    "print('Laugh: ',Laughs,' Perc: ', (Laughs/cont1s)*100)\n",
    "print('Hair_Touching: ',Hair_Touchings,' Perc: ', (Hair_Touchings/cont1s)*100)\n",
    "\n",
    "print('Next Listener Before Turn Changing ')\n",
    "print(cont1l)\n",
    "print('Walking: ',Walkingl,' Perc: ', (Walkingl/cont1l)*100)\n",
    "print('Stepping: ',Steppingl,' Perc: ', (Steppingl/cont1l)*100)\n",
    "print('Drinking: ',Drinkingl,' Perc: ', (Drinkingl/cont1l)*100)\n",
    "print('Speaking: ',Speakingl,' Perc: ', (Speakingl/cont1l)*100)\n",
    "print('Hand_Gesture: ',Hand_Gesturel,' Perc: ', (Hand_Gesturel/cont1l)*100)\n",
    "print('Head_Gesture: ',Head_Gesturel,' Perc: ', (Head_Gesturel/cont1l)*100)\n",
    "print('Laugh: ',Laughl,' Perc: ', (Laughl/cont1l)*100)\n",
    "print('Hair_Touching: ',Hair_Touchingl,' Perc: ', (Hair_Touchingl/cont1l)*100)"
   ]
  },
  {
   "cell_type": "code",
   "execution_count": 122,
   "id": "06f40183",
   "metadata": {},
   "outputs": [
    {
     "name": "stdout",
     "output_type": "stream",
     "text": [
      "Next Speaker Before Turn Changing\n",
      "81\n",
      "Walking:  1  Perc:  1.2345679012345678\n",
      "Stepping:  15  Perc:  18.51851851851852\n",
      "Drinking:  3  Perc:  3.7037037037037033\n",
      "Speaking:  0  Perc:  0.0\n",
      "Hand_Gesture:  11  Perc:  13.580246913580247\n",
      "Head_Gesture:  11  Perc:  13.580246913580247\n",
      "Laugh:  4  Perc:  4.938271604938271\n",
      "Hair_Touching:  2  Perc:  2.4691358024691357\n",
      "Next Listener Before Turn Changing \n",
      "81\n",
      "Walking:  2  Perc:  2.4691358024691357\n",
      "Stepping:  15  Perc:  18.51851851851852\n",
      "Drinking:  6  Perc:  7.4074074074074066\n",
      "Speaking:  31  Perc:  38.2716049382716\n",
      "Hand_Gesture:  19  Perc:  23.456790123456788\n",
      "Head_Gesture:  7  Perc:  8.641975308641975\n",
      "Laugh:  3  Perc:  3.7037037037037033\n",
      "Hair_Touching:  2  Perc:  2.4691358024691357\n"
     ]
    }
   ],
   "source": [
    "#Day 2\n",
    "print('Next Speaker Before Turn Changing')\n",
    "print(cont1s)\n",
    "print('Walking: ',Walkings,' Perc: ', (Walkings/cont1s)*100)\n",
    "print('Stepping: ',Steppings,' Perc: ', (Steppings/cont1s)*100)\n",
    "print('Drinking: ',Drinkings,' Perc: ', (Drinkings/cont1s)*100)\n",
    "print('Speaking: ',Speakings,' Perc: ', (Speakings/cont1s)*100)\n",
    "print('Hand_Gesture: ',Hand_Gestures,' Perc: ', (Hand_Gestures/cont1s)*100)\n",
    "print('Head_Gesture: ',Head_Gestures,' Perc: ', (Head_Gestures/cont1s)*100)\n",
    "print('Laugh: ',Laughs,' Perc: ', (Laughs/cont1s)*100)\n",
    "print('Hair_Touching: ',Hair_Touchings,' Perc: ', (Hair_Touchings/cont1s)*100)\n",
    "\n",
    "print('Next Listener Before Turn Changing ')\n",
    "print(cont1l)\n",
    "print('Walking: ',Walkingl,' Perc: ', (Walkingl/cont1l)*100)\n",
    "print('Stepping: ',Steppingl,' Perc: ', (Steppingl/cont1l)*100)\n",
    "print('Drinking: ',Drinkingl,' Perc: ', (Drinkingl/cont1l)*100)\n",
    "print('Speaking: ',Speakingl,' Perc: ', (Speakingl/cont1l)*100)\n",
    "print('Hand_Gesture: ',Hand_Gesturel,' Perc: ', (Hand_Gesturel/cont1l)*100)\n",
    "print('Head_Gesture: ',Head_Gesturel,' Perc: ', (Head_Gesturel/cont1l)*100)\n",
    "print('Laugh: ',Laughl,' Perc: ', (Laughl/cont1l)*100)\n",
    "print('Hair_Touching: ',Hair_Touchingl,' Perc: ', (Hair_Touchingl/cont1l)*100)"
   ]
  },
  {
   "cell_type": "code",
   "execution_count": 109,
   "id": "ad41cec0",
   "metadata": {},
   "outputs": [
    {
     "name": "stdout",
     "output_type": "stream",
     "text": [
      "Next Speaker Before Turn Changing\n",
      "79\n",
      "Walking:  0  Perc:  0.0\n",
      "Stepping:  11  Perc:  13.924050632911392\n",
      "Drinking:  0  Perc:  0.0\n",
      "Speaking:  0  Perc:  0.0\n",
      "Hand_Gesture:  20  Perc:  25.31645569620253\n",
      "Head_Gesture:  8  Perc:  10.126582278481013\n",
      "Laugh:  4  Perc:  5.063291139240507\n",
      "Hair_Touching:  1  Perc:  1.2658227848101267\n",
      "Next Listener Before Turn Changing \n",
      "79\n",
      "Walking:  1  Perc:  1.2658227848101267\n",
      "Stepping:  14  Perc:  17.72151898734177\n",
      "Drinking:  1  Perc:  1.2658227848101267\n",
      "Speaking:  44  Perc:  55.69620253164557\n",
      "Hand_Gesture:  26  Perc:  32.91139240506329\n",
      "Head_Gesture:  7  Perc:  8.860759493670885\n",
      "Laugh:  3  Perc:  3.79746835443038\n",
      "Hair_Touching:  4  Perc:  5.063291139240507\n"
     ]
    }
   ],
   "source": [
    "#Day 3\n",
    "print('Next Speaker Before Turn Changing')\n",
    "print(cont1s)\n",
    "print('Walking: ',Walkings,' Perc: ', (Walkings/cont1s)*100)\n",
    "print('Stepping: ',Steppings,' Perc: ', (Steppings/cont1s)*100)\n",
    "print('Drinking: ',Drinkings,' Perc: ', (Drinkings/cont1s)*100)\n",
    "print('Speaking: ',Speakings,' Perc: ', (Speakings/cont1s)*100)\n",
    "print('Hand_Gesture: ',Hand_Gestures,' Perc: ', (Hand_Gestures/cont1s)*100)\n",
    "print('Head_Gesture: ',Head_Gestures,' Perc: ', (Head_Gestures/cont1s)*100)\n",
    "print('Laugh: ',Laughs,' Perc: ', (Laughs/cont1s)*100)\n",
    "print('Hair_Touching: ',Hair_Touchings,' Perc: ', (Hair_Touchings/cont1s)*100)\n",
    "\n",
    "print('Next Listener Before Turn Changing ')\n",
    "print(cont1l)\n",
    "print('Walking: ',Walkingl,' Perc: ', (Walkingl/cont1l)*100)\n",
    "print('Stepping: ',Steppingl,' Perc: ', (Steppingl/cont1l)*100)\n",
    "print('Drinking: ',Drinkingl,' Perc: ', (Drinkingl/cont1l)*100)\n",
    "print('Speaking: ',Speakingl,' Perc: ', (Speakingl/cont1l)*100)\n",
    "print('Hand_Gesture: ',Hand_Gesturel,' Perc: ', (Hand_Gesturel/cont1l)*100)\n",
    "print('Head_Gesture: ',Head_Gesturel,' Perc: ', (Head_Gesturel/cont1l)*100)\n",
    "print('Laugh: ',Laughl,' Perc: ', (Laughl/cont1l)*100)\n",
    "print('Hair_Touching: ',Hair_Touchingl,' Perc: ', (Hair_Touchingl/cont1l)*100)"
   ]
  },
  {
   "cell_type": "code",
   "execution_count": 178,
   "id": "f9f0bbd8",
   "metadata": {},
   "outputs": [],
   "source": [
    "cont_t=79+81+318\n",
    "\n",
    "walkns_t=((2)/cont_t)*100\n",
    "walknl_t=((13+2+1)/cont_t)*100\n",
    "\n",
    "stepns_t=((48+15+11)/cont_t)*100\n",
    "stepnl_t=((31+15+14)/cont_t)*100\n",
    "\n",
    "drkns_t=((6)/cont_t)*100\n",
    "drknl_t=((20)/cont_t)*100\n",
    "\n",
    "spkns_t=((0)/cont_t)*100\n",
    "spknl_t=((154+31+44)/cont_t)*100\n",
    "\n",
    "handns_t=((73+11+20)/cont_t)*100\n",
    "handnl_t=((86+19+26)/cont_t)*100\n",
    "\n",
    "headns_t=((70+11+8)/cont_t)*100\n",
    "headnl_t=((41+7+7)/cont_t)*100\n",
    "\n",
    "launs_t=((16)/cont_t)*100\n",
    "launl_t=((16)/cont_t)*100\n",
    "\n",
    "hairns_t=((20)/cont_t)*100\n",
    "hairnl_t=((28)/cont_t)*100\n"
   ]
  },
  {
   "cell_type": "code",
   "execution_count": 179,
   "id": "468d5ed9",
   "metadata": {},
   "outputs": [
    {
     "name": "stderr",
     "output_type": "stream",
     "text": [
      "C:\\Users\\Lucrezia\\AppData\\Local\\Temp/ipykernel_16416/1829261039.py:31: MatplotlibDeprecationWarning: savefig() got unexpected keyword argument \"bbox\" which is no longer supported as of 3.3 and will become an error two minor releases later\n",
      "  plt.savefig('Peractionbefturndivver.png',bbox='tight_layout',dpi=200)\n"
     ]
    },
    {
     "data": {
      "image/png": "[encoded data removed]",
      "text/plain": [
       "<Figure size 864x576 with 1 Axes>"
      ]
     },
     "metadata": {},
     "output_type": "display_data"
    }
   ],
   "source": [
    "import numpy as np\n",
    "import matplotlib.pyplot as plt\n",
    "%matplotlib inline\n",
    "import matplotlib as mpl\n",
    "mpl.style.use('seaborn')\n",
    "# set width of bar\n",
    "barWidth = 0.3\n",
    "fig = plt.subplots(figsize =(12, 8))\n",
    " \n",
    "# set height of bar\n",
    "TurnCh_To_Speak = [walkns_t,stepns_t,drkns_t,spkns_t,handns_t,headns_t,launs_t,hairns_t]\n",
    "To_Listen = [walknl_t,stepnl_t,drknl_t,spknl_t,handnl_t,headnl_t,launl_t,hairnl_t]\n",
    "# Set position of bar on X axis\n",
    "br1 = np.arange(len(TurnCh_To_Speak))\n",
    "br2 = [x + barWidth for x in br1]\n",
    "# Make the plot\n",
    "plt.bar(br1, TurnCh_To_Speak, color ='r', width = barWidth,\n",
    "        edgecolor ='grey', label ='Next Speaker')\n",
    "plt.bar(br2, To_Listen, color ='orange', width = barWidth,\n",
    "        edgecolor ='grey', label ='Next Listener')\n",
    "\n",
    "\n",
    " \n",
    "# Adding Xticks\n",
    "plt.xlabel('Actions', fontweight ='bold', fontsize = 15)\n",
    "plt.ylabel('Percentage of the action before the turn', fontweight ='bold', fontsize = 15)\n",
    "plt.xticks([r + barWidth for r in range(len(TurnCh_To_Speak))],\n",
    "        ['Walking','Stepping','Drinking','Speaking','Hand_Gesture','Head_Gesture', 'Laugh', 'Hair_Touchin'])\n",
    " \n",
    "plt.legend()\n",
    "plt.savefig('Peractionbefturndivver.png',bbox='tight_layout',dpi=200)\n",
    "\n",
    "plt.show()"
   ]
  },
  {
   "cell_type": "code",
   "execution_count": null,
   "id": "84569d76",
   "metadata": {},
   "outputs": [],
   "source": [
    "#listener one frame after the talker start to talk"
   ]
  },
  {
   "cell_type": "code",
   "execution_count": 147,
   "id": "34d66661",
   "metadata": {},
   "outputs": [
    {
     "name": "stdout",
     "output_type": "stream",
     "text": [
      "Next Speaker Before Turn Changing\n",
      "318\n",
      "Walking:  1  Perc:  0.3144654088050315\n",
      "Stepping:  48  Perc:  15.09433962264151\n",
      "Drinking:  3  Perc:  0.9433962264150944\n",
      "Speaking:  0  Perc:  0.0\n",
      "Hand_Gesture:  73  Perc:  22.955974842767297\n",
      "Head_Gesture:  70  Perc:  22.0125786163522\n",
      "Laugh:  8  Perc:  2.515723270440252\n",
      "Hair_Touching:  17  Perc:  5.345911949685535\n",
      "Next Listener Before Turn Changing \n",
      "318\n",
      "Walking:  12  Perc:  3.7735849056603774\n",
      "Stepping:  31  Perc:  9.748427672955975\n",
      "Drinking:  14  Perc:  4.40251572327044\n",
      "Speaking:  0  Perc:  0.0\n",
      "Hand_Gesture:  66  Perc:  20.754716981132077\n",
      "Head_Gesture:  35  Perc:  11.0062893081761\n",
      "Laugh:  9  Perc:  2.8301886792452833\n",
      "Hair_Touching:  20  Perc:  6.289308176100629\n"
     ]
    }
   ],
   "source": [
    "#DAY1\n",
    "print('Next Speaker Before Turn Changing')\n",
    "print(cont1s)\n",
    "print('Walking: ',Walkings,' Perc: ', (Walkings/cont1s)*100)\n",
    "print('Stepping: ',Steppings,' Perc: ', (Steppings/cont1s)*100)\n",
    "print('Drinking: ',Drinkings,' Perc: ', (Drinkings/cont1s)*100)\n",
    "print('Speaking: ',Speakings,' Perc: ', (Speakings/cont1s)*100)\n",
    "print('Hand_Gesture: ',Hand_Gestures,' Perc: ', (Hand_Gestures/cont1s)*100)\n",
    "print('Head_Gesture: ',Head_Gestures,' Perc: ', (Head_Gestures/cont1s)*100)\n",
    "print('Laugh: ',Laughs,' Perc: ', (Laughs/cont1s)*100)\n",
    "print('Hair_Touching: ',Hair_Touchings,' Perc: ', (Hair_Touchings/cont1s)*100)\n",
    "\n",
    "print('Next Listener Before Turn Changing ')\n",
    "print(cont1l)\n",
    "print('Walking: ',Walkingl,' Perc: ', (Walkingl/cont1l)*100)\n",
    "print('Stepping: ',Steppingl,' Perc: ', (Steppingl/cont1l)*100)\n",
    "print('Drinking: ',Drinkingl,' Perc: ', (Drinkingl/cont1l)*100)\n",
    "print('Speaking: ',Speakingl,' Perc: ', (Speakingl/cont1l)*100)\n",
    "print('Hand_Gesture: ',Hand_Gesturel,' Perc: ', (Hand_Gesturel/cont1l)*100)\n",
    "print('Head_Gesture: ',Head_Gesturel,' Perc: ', (Head_Gesturel/cont1l)*100)\n",
    "print('Laugh: ',Laughl,' Perc: ', (Laughl/cont1l)*100)\n",
    "print('Hair_Touching: ',Hair_Touchingl,' Perc: ', (Hair_Touchingl/cont1l)*100)"
   ]
  },
  {
   "cell_type": "code",
   "execution_count": 160,
   "id": "a60c845c",
   "metadata": {},
   "outputs": [
    {
     "name": "stdout",
     "output_type": "stream",
     "text": [
      "Next Speaker Before Turn Changing\n",
      "81\n",
      "Walking:  1  Perc:  1.2345679012345678\n",
      "Stepping:  15  Perc:  18.51851851851852\n",
      "Drinking:  3  Perc:  3.7037037037037033\n",
      "Speaking:  0  Perc:  0.0\n",
      "Hand_Gesture:  11  Perc:  13.580246913580247\n",
      "Head_Gesture:  11  Perc:  13.580246913580247\n",
      "Laugh:  4  Perc:  4.938271604938271\n",
      "Hair_Touching:  2  Perc:  2.4691358024691357\n",
      "Next Listener Before Turn Changing \n",
      "81\n",
      "Walking:  2  Perc:  2.4691358024691357\n",
      "Stepping:  15  Perc:  18.51851851851852\n",
      "Drinking:  6  Perc:  7.4074074074074066\n",
      "Speaking:  0  Perc:  0.0\n",
      "Hand_Gesture:  14  Perc:  17.28395061728395\n",
      "Head_Gesture:  5  Perc:  6.172839506172839\n",
      "Laugh:  2  Perc:  2.4691358024691357\n",
      "Hair_Touching:  2  Perc:  2.4691358024691357\n"
     ]
    }
   ],
   "source": [
    "#DAY2 \n",
    "print('Next Speaker Before Turn Changing')\n",
    "print(cont1s)\n",
    "print('Walking: ',Walkings,' Perc: ', (Walkings/cont1s)*100)\n",
    "print('Stepping: ',Steppings,' Perc: ', (Steppings/cont1s)*100)\n",
    "print('Drinking: ',Drinkings,' Perc: ', (Drinkings/cont1s)*100)\n",
    "print('Speaking: ',Speakings,' Perc: ', (Speakings/cont1s)*100)\n",
    "print('Hand_Gesture: ',Hand_Gestures,' Perc: ', (Hand_Gestures/cont1s)*100)\n",
    "print('Head_Gesture: ',Head_Gestures,' Perc: ', (Head_Gestures/cont1s)*100)\n",
    "print('Laugh: ',Laughs,' Perc: ', (Laughs/cont1s)*100)\n",
    "print('Hair_Touching: ',Hair_Touchings,' Perc: ', (Hair_Touchings/cont1s)*100)\n",
    "\n",
    "print('Next Listener Before Turn Changing ')\n",
    "print(cont1l)\n",
    "print('Walking: ',Walkingl,' Perc: ', (Walkingl/cont1l)*100)\n",
    "print('Stepping: ',Steppingl,' Perc: ', (Steppingl/cont1l)*100)\n",
    "print('Drinking: ',Drinkingl,' Perc: ', (Drinkingl/cont1l)*100)\n",
    "print('Speaking: ',Speakingl,' Perc: ', (Speakingl/cont1l)*100)\n",
    "print('Hand_Gesture: ',Hand_Gesturel,' Perc: ', (Hand_Gesturel/cont1l)*100)\n",
    "print('Head_Gesture: ',Head_Gesturel,' Perc: ', (Head_Gesturel/cont1l)*100)\n",
    "print('Laugh: ',Laughl,' Perc: ', (Laughl/cont1l)*100)\n",
    "print('Hair_Touching: ',Hair_Touchingl,' Perc: ', (Hair_Touchingl/cont1l)*100)"
   ]
  },
  {
   "cell_type": "code",
   "execution_count": 177,
   "id": "560d7d7a",
   "metadata": {},
   "outputs": [
    {
     "name": "stdout",
     "output_type": "stream",
     "text": [
      "Next Speaker Before Turn Changing\n",
      "79\n",
      "Walking:  0  Perc:  0.0\n",
      "Stepping:  11  Perc:  13.924050632911392\n",
      "Drinking:  0  Perc:  0.0\n",
      "Speaking:  0  Perc:  0.0\n",
      "Hand_Gesture:  20  Perc:  25.31645569620253\n",
      "Head_Gesture:  8  Perc:  10.126582278481013\n",
      "Laugh:  4  Perc:  5.063291139240507\n",
      "Hair_Touching:  1  Perc:  1.2658227848101267\n",
      "Next Listener Before Turn Changing \n",
      "79\n",
      "Walking:  2  Perc:  2.5316455696202533\n",
      "Stepping:  14  Perc:  17.72151898734177\n",
      "Drinking:  1  Perc:  1.2658227848101267\n",
      "Speaking:  0  Perc:  0.0\n",
      "Hand_Gesture:  24  Perc:  30.37974683544304\n",
      "Head_Gesture:  2  Perc:  2.5316455696202533\n",
      "Laugh:  3  Perc:  3.79746835443038\n",
      "Hair_Touching:  4  Perc:  5.063291139240507\n"
     ]
    }
   ],
   "source": [
    "#DAY3\n",
    "print('Next Speaker Before Turn Changing')\n",
    "print(cont1s)\n",
    "print('Walking: ',Walkings,' Perc: ', (Walkings/cont1s)*100)\n",
    "print('Stepping: ',Steppings,' Perc: ', (Steppings/cont1s)*100)\n",
    "print('Drinking: ',Drinkings,' Perc: ', (Drinkings/cont1s)*100)\n",
    "print('Speaking: ',Speakings,' Perc: ', (Speakings/cont1s)*100)\n",
    "print('Hand_Gesture: ',Hand_Gestures,' Perc: ', (Hand_Gestures/cont1s)*100)\n",
    "print('Head_Gesture: ',Head_Gestures,' Perc: ', (Head_Gestures/cont1s)*100)\n",
    "print('Laugh: ',Laughs,' Perc: ', (Laughs/cont1s)*100)\n",
    "print('Hair_Touching: ',Hair_Touchings,' Perc: ', (Hair_Touchings/cont1s)*100)\n",
    "\n",
    "print('Next Listener Before Turn Changing ')\n",
    "print(cont1l)\n",
    "print('Walking: ',Walkingl,' Perc: ', (Walkingl/cont1l)*100)\n",
    "print('Stepping: ',Steppingl,' Perc: ', (Steppingl/cont1l)*100)\n",
    "print('Drinking: ',Drinkingl,' Perc: ', (Drinkingl/cont1l)*100)\n",
    "print('Speaking: ',Speakingl,' Perc: ', (Speakingl/cont1l)*100)\n",
    "print('Hand_Gesture: ',Hand_Gesturel,' Perc: ', (Hand_Gesturel/cont1l)*100)\n",
    "print('Head_Gesture: ',Head_Gesturel,' Perc: ', (Head_Gesturel/cont1l)*100)\n",
    "print('Laugh: ',Laughl,' Perc: ', (Laughl/cont1l)*100)\n",
    "print('Hair_Touching: ',Hair_Touchingl,' Perc: ', (Hair_Touchingl/cont1l)*100)"
   ]
  },
  {
   "cell_type": "code",
   "execution_count": 11,
   "id": "d1308756",
   "metadata": {},
   "outputs": [],
   "source": [
    "cont_t=79+81+318\n",
    "\n",
    "walkns_t=((2)/cont_t)*100\n",
    "walknl_t=((13+2+1)/cont_t)*100\n",
    "\n",
    "stepns_t=((48+15+11)/cont_t)*100\n",
    "stepnl_t=((31+15+14)/cont_t)*100\n",
    "\n",
    "drkns_t=((6)/cont_t)*100\n",
    "drknl_t=((21)/cont_t)*100\n",
    "\n",
    "spkns_t=((0)/cont_t)*100\n",
    "spknl_t=((154+31+44)/cont_t)*100\n",
    "\n",
    "handns_t=((73+11+20)/cont_t)*100\n",
    "handnl_t=((66+14+23)/cont_t)*100\n",
    "\n",
    "headns_t=((70+11+8)/cont_t)*100\n",
    "headnl_t=((35+5+2)/cont_t)*100\n",
    "\n",
    "launs_t=((16)/cont_t)*100\n",
    "launl_t=((16)/cont_t)*100\n",
    "\n",
    "hairns_t=((20)/cont_t)*100\n",
    "hairnl_t=((26)/cont_t)*100"
   ]
  },
  {
   "cell_type": "code",
   "execution_count": 12,
   "id": "d1761ab2",
   "metadata": {},
   "outputs": [
    {
     "data": {
      "image/png": "[encoded data removed]",
      "text/plain": [
       "<Figure size 720x576 with 1 Axes>"
      ]
     },
     "metadata": {},
     "output_type": "display_data"
    }
   ],
   "source": [
    "import numpy as np\n",
    "import matplotlib.pyplot as plt\n",
    "%matplotlib inline\n",
    "import matplotlib as mpl\n",
    "mpl.style.use('seaborn')\n",
    "# set width of bar\n",
    "barWidth = 0.3\n",
    "fig = plt.subplots(figsize =(10, 8))\n",
    " \n",
    "# set height of bar\n",
    "TurnCh_To_Speak = [walkns_t,stepns_t,drkns_t,spkns_t,handns_t,headns_t,launs_t,hairns_t]\n",
    "To_Listen = [walknl_t,stepnl_t,drknl_t,spknl_t,handnl_t,headnl_t,launl_t,hairnl_t]\n",
    "# Set position of bar on X axis\n",
    "br1 = np.arange(len(TurnCh_To_Speak))\n",
    "br2 = [x + barWidth for x in br1]\n",
    "# Make the plot\n",
    "plt.bar(br1, TurnCh_To_Speak, color ='r', width = barWidth,\n",
    "        edgecolor ='grey', label ='Next Speaker')\n",
    "plt.bar(br2, To_Listen, color ='orange', width = barWidth,\n",
    "        edgecolor ='grey', label ='Next Listener')\n",
    "\n",
    "\n",
    " \n",
    "# Adding Xticks\n",
    "plt.xlabel('Actions', fontweight ='bold', fontsize = 18)\n",
    "plt.ylabel('Percentage of the action before the turn', fontweight ='bold', fontsize = 18)\n",
    "plt.xticks([r + barWidth for r in range(len(TurnCh_To_Speak))],\n",
    "        ['Walking','Stepping','Drinking','Speaking','Hand_Gesture','Head_Gesture', 'Laugh', 'Hair_Touchin'],fontsize = 15,rotation=30)\n",
    "plt.yticks(fontsize = 15) \n",
    "plt.legend(fontsize = 15)\n",
    "plt.savefig('Peractionbefturndiv.png',dpi=100)\n",
    "\n",
    "plt.show()"
   ]
  },
  {
   "cell_type": "code",
   "execution_count": 201,
   "id": "9f8d4546",
   "metadata": {},
   "outputs": [],
   "source": [
    "person1=0\n",
    "person2=0\n",
    "overl=0\n",
    "silence=0\n",
    "for i in range(len(speaker)):\n",
    "    if speaker[i]==0:\n",
    "        person1+=1\n",
    "    elif speaker[i]==1:\n",
    "        person2+=1\n",
    "    elif speaker[i]==2:\n",
    "        overl+=1\n",
    "    elif speaker[i]==3:  \n",
    "        silence+=1"
   ]
  },
  {
   "cell_type": "code",
   "execution_count": 182,
   "id": "fcccf1ce",
   "metadata": {},
   "outputs": [
    {
     "name": "stdout",
     "output_type": "stream",
     "text": [
      "10257\n",
      "20124\n",
      "3648\n",
      "29610\n"
     ]
    }
   ],
   "source": [
    "#DAY3\n",
    "print(person1)\n",
    "print(person2)\n",
    "print(overl)\n",
    "print(silence)"
   ]
  },
  {
   "cell_type": "code",
   "execution_count": 192,
   "id": "1da19891",
   "metadata": {},
   "outputs": [
    {
     "name": "stdout",
     "output_type": "stream",
     "text": [
      "6993\n",
      "6321\n",
      "1475\n",
      "10481\n"
     ]
    }
   ],
   "source": [
    "#DAY2\n",
    "print(person1)\n",
    "print(person2)\n",
    "print(overl)\n",
    "print(silence)"
   ]
  },
  {
   "cell_type": "code",
   "execution_count": 202,
   "id": "269b6102",
   "metadata": {},
   "outputs": [
    {
     "name": "stdout",
     "output_type": "stream",
     "text": [
      "25463\n",
      "25289\n",
      "5584\n",
      "20260\n"
     ]
    }
   ],
   "source": [
    "#DAY1\n",
    "print(person1)\n",
    "print(person2)\n",
    "print(overl)\n",
    "print(silence)"
   ]
  },
  {
   "cell_type": "code",
   "execution_count": 8,
   "id": "826f2565",
   "metadata": {},
   "outputs": [],
   "source": [
    "person1=10257+6993+25463\n",
    "person2=20124+6321+25289\n",
    "overl=3648+1475+5584\n",
    "silence=29610+10481+20260"
   ]
  },
  {
   "cell_type": "code",
   "execution_count": 9,
   "id": "7f6f504d",
   "metadata": {},
   "outputs": [],
   "source": [
    "tot1=10257+20124+3648+29610\n",
    "tot2=6993+6321+1475+10481\n",
    "tot3=25463+25289+5584+20260\n",
    "tot=tot1+tot2+tot3"
   ]
  },
  {
   "cell_type": "code",
   "execution_count": 10,
   "id": "b5a1ef6e",
   "metadata": {},
   "outputs": [
    {
     "data": {
      "image/png": "[encoded data removed]",
      "text/plain": [
       "<Figure size 720x576 with 1 Axes>"
      ]
     },
     "metadata": {},
     "output_type": "display_data"
    }
   ],
   "source": [
    "import numpy as np\n",
    "import matplotlib.pyplot as plt\n",
    "%matplotlib inline\n",
    "import matplotlib as mpl\n",
    "mpl.style.use('seaborn')\n",
    "# set width of bar\n",
    "barWidth = 0.4\n",
    "fig = plt.subplots(figsize =(10, 8))\n",
    " \n",
    "# set height of bar\n",
    "TurnCh_To_Speak = [(person1/tot)*100,(person2/tot)*100,(overl/tot)*100,(silence/tot)*100]\n",
    "# Set position of bar on X axis\n",
    "br1 = np.arange(4)+0.4\n",
    "# Make the plot\n",
    "plt.bar(br1, TurnCh_To_Speak, color ='r', width = barWidth,\n",
    "        edgecolor ='grey', label ='Label')\n",
    "\n",
    " \n",
    "# Adding Xticks\n",
    "plt.xlabel('Label', fontweight ='bold', fontsize = 18)\n",
    "plt.ylabel('Occurence in Percentage', fontweight ='bold', fontsize = 18)\n",
    "plt.xticks([r + barWidth for r in range(len(TurnCh_To_Speak))],\n",
    "        ['Person1','Person2','Overlap','SIlence'],fontsize = 15,rotation=30)\n",
    "plt.yticks(fontsize = 15) \n",
    "plt.savefig('perchnonva.png',dpi=100)\n",
    "\n",
    "plt.show()\n"
   ]
  },
  {
   "cell_type": "code",
   "execution_count": null,
   "id": "a777b4eb",
   "metadata": {},
   "outputs": [],
   "source": []
  }
 ],
 "metadata": {
  "kernelspec": {
   "display_name": "Python 3 (ipykernel)",
   "language": "python",
   "name": "python3"
  },
  "language_info": {
   "codemirror_mode": {
    "name": "ipython",
    "version": 3
   },
   "file_extension": ".py",
   "mimetype": "text/x-python",
   "name": "python",
   "nbconvert_exporter": "python",
   "pygments_lexer": "ipython3",
   "version": "3.9.7"
  }
 },
 "nbformat": 4,
 "nbformat_minor": 5
}
