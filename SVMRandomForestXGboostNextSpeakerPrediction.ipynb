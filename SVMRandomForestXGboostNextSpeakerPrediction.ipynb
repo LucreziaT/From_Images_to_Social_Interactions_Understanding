{
 "cells": [
  {
   "cell_type": "code",
   "execution_count": 1,
   "id": "c6d362df",
   "metadata": {},
   "outputs": [],
   "source": [
    "#!/usr/bin/env python\n",
    "import cv2\n",
    "import matplotlib\n",
    "import csv\n",
    "import matplotlib.pyplot as plt\n",
    "import numpy as np\n",
    "import os\n",
    "import sys\n",
    "from sklearn.metrics import confusion_matrix\n",
    "import pandas as pd\n",
    "import seaborn as sns\n",
    "from sklearn.ensemble import RandomForestClassifier\n",
    "from tqdm.notebook import tqdm\n",
    "from sklearn.preprocessing import LabelEncoder\n",
    "from sklearn.metrics import accuracy_score\n",
    "from xgboost import XGBClassifier\n",
    "import warnings\n",
    "warnings.filterwarnings('ignore') \n",
    "\n",
    "#Function for the creation of a 3d matrix\n",
    "def ThreeD(a, b, c):\n",
    "    lst = [[ ['0' for col in range(a)] for col in range(b)] for row in range(c)]\n",
    "    return lst"
   ]
  },
  {
   "cell_type": "code",
   "execution_count": 2,
   "id": "fa52dbcc",
   "metadata": {},
   "outputs": [],
   "source": [
    "datasetPath='C:/Users/Lucrezia/Desktop/Internship/MNM_version2-Revision17/Mingle/'# put the path of your video here \n",
    "DAY=1 # day number "
   ]
  },
  {
   "cell_type": "code",
   "execution_count": 3,
   "id": "599827a5",
   "metadata": {},
   "outputs": [],
   "source": [
    "#converts a CSV file into an array, returns any array, the array encoded in the CSV file\n",
    "def openCSV(filename):\n",
    "    rows = []\n",
    "    with open(filename) as csvfile:\n",
    "        reader = csv.reader(csvfile)\n",
    "        for row in reader:\n",
    "            rows.append(row)\n",
    "    arr = np.array(rows)\n",
    "    return arr"
   ]
  },
  {
   "cell_type": "code",
   "execution_count": 16,
   "id": "3d3731d6",
   "metadata": {},
   "outputs": [],
   "source": [
    "#to count how many people were in a conversation \n",
    "def partcounter(numbers): \n",
    "    a=' '\n",
    "    cardinality=0\n",
    "    for i in numbers:\n",
    "        if i!=' ' and a==' ':\n",
    "            cardinality+=1\n",
    "            a='a'\n",
    "        else:\n",
    "            cardinality=cardinality\n",
    "            a=' '  \n",
    "    return cardinality"
   ]
  },
  {
   "cell_type": "code",
   "execution_count": 5,
   "id": "5f7b8f0c",
   "metadata": {},
   "outputs": [],
   "source": [
    "#saving the daily ID of the two participants\n",
    "def litoint(x):\n",
    "    val=[]\n",
    "    val2=[]\n",
    "    count=0\n",
    "    for i in x: \n",
    "        if i!=' ' and count==0:\n",
    "            val.append(i)\n",
    "        elif i!=' ' and count==1:\n",
    "            val2.append(i)\n",
    "        else:\n",
    "            count=1 \n",
    "    s = [str(integer) for integer in val]\n",
    "    a_string = \"\".join(s)\n",
    "    res = int(a_string)\n",
    "    s1 = [str(integer) for integer in val2]\n",
    "    a_string1 = \"\".join(s1)\n",
    "    res1 = int(a_string1)\n",
    "    return([res,res1])"
   ]
  },
  {
   "cell_type": "code",
   "execution_count": 6,
   "id": "1d89b179",
   "metadata": {},
   "outputs": [],
   "source": [
    "#this function will automaticall give the total ID, as input it needs the daily ID,the numer of the day, and the path\n",
    "def realID(s,day,datasetPath):\n",
    "    cont=0\n",
    "    # LABELS\n",
    "    try:\n",
    "        filename1 = datasetPath+'manual_annotations/PARTICIPANTS.csv'\n",
    "        labels1 = openCSV(filename1)\n",
    "    except FileNotFoundError:\n",
    "        filename1 = datasetPath+'manual_annotations/_PARTICIPANTS.csv'\n",
    "        labels1 = openCSV(filename1).astype(np.int64)\n",
    "    for i in labels1:\n",
    "        cont+=1\n",
    "        if int(i[0])==DAY:\n",
    "            if int(i[1])==s:\n",
    "                return(cont)"
   ]
  },
  {
   "cell_type": "code",
   "execution_count": 7,
   "id": "88dc093c",
   "metadata": {},
   "outputs": [],
   "source": [
    "#dividing the labels, frames is the history we want to keep in the labels and in the x data, if we want to have a memory of 2 frame it will be 2\n",
    "#in this case we want to use it with SVM,XGBoost,Random Forest, so we will use 1.\n",
    "#we iterate from that number to the all length, taking in to account to divide each conversation separatly and then append all the data togheter.\n",
    "def divisory(y,frames):\n",
    "    lista=[]\n",
    "    count=0\n",
    "    for i in range((frames),len(y)):  #we will divide the conversation frames by frames, so we will have to start at frames till the end. \n",
    "        lista.append([y[i]])\n",
    "        count+=1\n",
    "    lista.append([3])\n",
    "    return(lista)"
   ]
  },
  {
   "cell_type": "code",
   "execution_count": 8,
   "id": "5096bd35",
   "metadata": {},
   "outputs": [],
   "source": [
    "#dividing the xdata, frames is the history we want to keep in the labels and in the x data, if we want to have a memory of 2 frame it will be 2\n",
    "#in this case we want to use it with SVM,XGBoost,Random Forest, so we will use 1.\n",
    "#we iterate from that number to the all length, taking in to account to divide each conversation separatly and then append all the data togheter.\n",
    "def divisorx(x,frames):\n",
    "    lista=[]\n",
    "    for i in range(0,len(x)-(frames-1)): #we will divide the conversation frames by frames, so we will have to stop frames -1 before the end. \n",
    "        temp=[]\n",
    "        for j in range(0,frames):\n",
    "            temp.append(x[i+(j)])\n",
    "        lista.append(temp)\n",
    "    return(lista)"
   ]
  },
  {
   "cell_type": "code",
   "execution_count": 9,
   "id": "41c58ec1",
   "metadata": {},
   "outputs": [
    {
     "name": "stdout",
     "output_type": "stream",
     "text": [
      "LABELS array shape = (36000, 828)\n"
     ]
    }
   ],
   "source": [
    "# LABELS\n",
    "try:\n",
    "    filename = datasetPath+'manual_annotations/LABELS.csv'\n",
    "    labels = openCSV(filename).astype(np.int64)\n",
    "except FileNotFoundError:\n",
    "    filename = datasetPath+'manual_annotations/_LABELS.csv'\n",
    "    labels = openCSV(filename).astype(np.int64)\n",
    "print(\"LABELS array shape =\", labels.shape)"
   ]
  },
  {
   "cell_type": "code",
   "execution_count": 10,
   "id": "e32afec1",
   "metadata": {},
   "outputs": [],
   "source": [
    "N,M= labels.shape\n",
    "dataset=ThreeD(9, int(M/9), int(N))\n",
    "for i in range (0,N):\n",
    "    for j in range(0,M):\n",
    "        dataset[i][int(j/9)][j%9]=(labels[i][j])"
   ]
  },
  {
   "cell_type": "code",
   "execution_count": 11,
   "id": "734c2e7f",
   "metadata": {},
   "outputs": [
    {
     "name": "stdout",
     "output_type": "stream",
     "text": [
      "LABELS array shape = (69, 5)\n"
     ]
    }
   ],
   "source": [
    "# reading the file with the conversation, containing the persons involved and the initial and final time\n",
    "try:\n",
    "    filename1 = datasetPath+'manual_annotations/F-formationsGT/Day'+str(DAY)+'.csv'\n",
    "    labels1 = openCSV(filename1)\n",
    "except FileNotFoundError:\n",
    "    filename1 = datasetPath+'manual_annotations/F-formationsGT/Day'+str(DAY)+'.csv'\n",
    "    labels1 = openCSV(filename1).astype(np.int64)\n",
    "print(\"LABELS array shape =\", labels1.shape)\n",
    "M1,N1=labels1.shape"
   ]
  },
  {
   "cell_type": "code",
   "execution_count": 12,
   "id": "47fb2a4c",
   "metadata": {},
   "outputs": [],
   "source": [
    "M1,N1=labels1.shape\n",
    "liscoupl=[]\n",
    "for i in range(0,M1):\n",
    "    if i!=0:\n",
    "        if partcounter(labels1[i][0])==2: #couples, if more litoint needs to be modify to accept more persons\n",
    "            s=litoint(labels1[i][0])\n",
    "            k=[]\n",
    "            k.append(realID(s[0],DAY,datasetPath))#saving real ID person1 and real ID person2\n",
    "            k.append(realID(s[1],DAY,datasetPath))\n",
    "            liscoupl.append([k,int(labels1[i][3]),int(labels1[i][4])])#appending ID participants and initial final frame"
   ]
  },
  {
   "cell_type": "code",
   "execution_count": 13,
   "id": "b0d0f4ad",
   "metadata": {},
   "outputs": [],
   "source": [
    "#label creation\n",
    "speaker=[]\n",
    "spdata=[]\n",
    "for j in range(0,len(liscoupl)):\n",
    "        temp=[]\n",
    "        for i in range (0,N):\n",
    "            personid1 = liscoupl[j][0][0]-1\n",
    "            personid2 = liscoupl[j][0][1]-1\n",
    "            if i>liscoupl[j][1] and i<liscoupl[j][2]:\n",
    "                if dataset[i][personid1][3]==1 and dataset[i][personid2][3]==0:\n",
    "                    temp.append(0)\n",
    "                    spdata.append(0)\n",
    "                elif dataset[i][personid1][3]==0 and dataset[i][personid2][3]==1:\n",
    "                    temp.append(1)\n",
    "                    spdata.append(1)\n",
    "                elif dataset[i][personid1][3]==0 and dataset[i][personid2][3]==0:\n",
    "                    temp.append(3)\n",
    "                    spdata.append(3)\n",
    "                else: \n",
    "                    temp.append(2)\n",
    "                    spdata.append(2)\n",
    "        temp1=divisory(temp,1)\n",
    "        speaker.extend(temp1)"
   ]
  },
  {
   "cell_type": "code",
   "execution_count": 14,
   "id": "e762db72",
   "metadata": {},
   "outputs": [],
   "source": [
    "import sys\n",
    "import csv\n",
    "maxInt = sys.maxsize\n",
    "\n",
    "while True:\n",
    "    try:\n",
    "        csv.field_size_limit(maxInt)\n",
    "        break\n",
    "    except OverflowError:\n",
    "        maxInt = int(maxInt/10)\n",
    "tempo=-1\n",
    "with open('labeldyadsalldayprova.csv', 'w',newline='') as csvfile: #create a csv file, may be usefull if you use colab\n",
    "    biglist=[]\n",
    "    biglist2=[]\n",
    "    writer = csv.writer(csvfile)\n",
    "    for j in range(0,len(liscoupl)):\n",
    "        listprov=[]\n",
    "        for i in range (0,N):\n",
    "            personid1 = liscoupl[j][0][0]-1\n",
    "            personid2 = liscoupl[j][0][1]-1\n",
    "            if i>liscoupl[j][1] and i<liscoupl[j][2]:\n",
    "                tempo+=1\n",
    "                #best 3 features\n",
    "                listprov.append([dataset[i][personid1][3],dataset[i][personid1][4],dataset[i][personid1][5],dataset[i][personid2][3],dataset[i][personid2][4],dataset[i][personid2][5]])\n",
    "                #best 4 feature, except for talking\n",
    "                #listprov.append([dataset[i][personid1][2],dataset[i][personid1][4],dataset[i][personid1][5],dataset[i][personid2][2],dataset[i][personid2][4],dataset[i][personid2][5]])\n",
    "                #all features except for speaking\n",
    "                #listaprov.append([dataset[i][personid1][0],dataset[i][personid1][1],dataset[i][personid1][2],dataset[i][personid1][4],dataset[i][personid1][5],dataset[i][personid1][6],dataset[i][personid1][7],dataset[i][personid2][0],dataset[i][personid2][1],dataset[i][personid2][2],dataset[i][personid2][4],dataset[i][personid2][5],dataset[i][personid2][6],dataset[i][personid2][7]])    \n",
    "                if (dataset[i][personid1][3]==1 and dataset[i][personid2][3]==0) and spdata[tempo]==0:\n",
    "                    pass\n",
    "                elif (dataset[i][personid1][3]==0 and dataset[i][personid2][3]==1) and spdata[tempo]==1:\n",
    "                    pass\n",
    "                elif (dataset[i][personid1][3]==0 and dataset[i][personid2][3]==0) and spdata[tempo]==3:\n",
    "                    pass\n",
    "                elif (dataset[i][personid1][3]==1 and dataset[i][personid2][3]==1) and spdata[tempo]==2: \n",
    "                    pass\n",
    "                else: \n",
    "                    print('ERRORE')\n",
    "                    print(dataset[i][personid1][3])\n",
    "                    print(dataset[i][personid2][3])\n",
    "                    print(speaker[tempo])\n",
    "        biglist2.extend(listprov)\n",
    "        lista=divisorx(listprov,1)\n",
    "        biglist.extend(lista)  \n",
    "        writer.writerow([listprov])"
   ]
  },
  {
   "cell_type": "code",
   "execution_count": 15,
   "id": "8b0894ba",
   "metadata": {},
   "outputs": [
    {
     "name": "stdout",
     "output_type": "stream",
     "text": [
      "dataset complete:  (76596, 1, 6)\n",
      "label complete:  (76596, 1)\n",
      "dataset train:  (43974, 6)\n",
      "label train:  (43974,)\n",
      "dataset test:  (32622, 6)\n",
      "label test:  (32622,)\n"
     ]
    }
   ],
   "source": [
    "#embedding and division of the dataset\n",
    "sp1=np.array(speaker)\n",
    "x=np.array(biglist)#.astype(np.float32)\n",
    "from sklearn.preprocessing import LabelEncoder\n",
    "from keras.utils import np_utils\n",
    "\n",
    "X_train, y_train = np.array(x[:43974]), np.array(sp1[:43974])#70%#\n",
    "X_test, y_test = np.array(x[43974:]), np.array(sp1[43974:])#10%\n",
    "\n",
    "X_train = X_train.reshape(X_train.shape[0], (X_train.shape[1]*X_train.shape[2]))\n",
    "X_test = X_test.reshape(X_test.shape[0], (X_test.shape[1]*X_test.shape[2]))\n",
    "\n",
    "y_train = y_train.reshape(y_train.shape[0]*y_train.shape[1])\n",
    "y_test = y_test.reshape(y_test.shape[0]*y_test.shape[1])\n",
    "\n",
    "print('dataset complete: ',x.shape)\n",
    "print('label complete: ',sp1.shape)\n",
    "print('dataset train: ',X_train.shape)\n",
    "print('label train: ',y_train.shape )\n",
    "print('dataset test: ',X_test.shape)\n",
    "print('label test: ',y_test.shape)"
   ]
  },
  {
   "cell_type": "code",
   "execution_count": 23,
   "id": "de548f6b",
   "metadata": {},
   "outputs": [
    {
     "name": "stdout",
     "output_type": "stream",
     "text": [
      "poly\n",
      "train:  0.9689707554464001\n",
      "test:  0.9630175954877077\n",
      "8.276055097579956\n"
     ]
    },
    {
     "data": {
      "text/plain": [
       "'\\nfrom sklearn.ensemble import RandomForestClassifier\\nclf = RandomForestClassifier()\\nclf.fit(X_train, y_train)\\nval=clf.predict(X_val)\\ntest=clf.predict(X_test)\\ntt=clf.predict(X_train)\\nprint(accuracy_score(y_train, tt))\\nprint(accuracy_score(y_val, val))\\nprint(accuracy_score(y_test, test))\\n'"
      ]
     },
     "execution_count": 23,
     "metadata": {},
     "output_type": "execute_result"
    }
   ],
   "source": [
    "import time \n",
    "start = time.time()\n",
    "from sklearn.svm import SVC\n",
    "kernel=['linear','rbf','sigmoid','poly']\n",
    "from sklearn.metrics import accuracy_score\n",
    "\n",
    "clf = SVC(kernel='rbf',decision_function_shape='ovo')\n",
    "clf = clf.fit(X_train,y_train )\n",
    "tt=clf.predict(X_train)\n",
    "test= clf.predict(X_test)\n",
    "print('poly')\n",
    "print('train: ',(accuracy_score(y_train, tt)))\n",
    "print('test: ',accuracy_score(y_test, test))\n",
    "\n",
    "'''\n",
    "model = XGBClassifier(use_label_encoder=False, eval_metric='mlogloss')\n",
    "model.fit(X_train, y_train)\n",
    "XGBClassifier(base_score=0.5, booster='gbtree', colsample_bylevel=1,\n",
    "              colsample_bynode=1, colsample_bytree=1, eval_metric='mlogloss',\n",
    "              gamma=0, gpu_id=-1, importance_type='gain',\n",
    "              interaction_constraints='', learning_rate=0.300000012,\n",
    "              max_delta_step=0, max_depth=6, min_child_weight=1, missing='NaN',\n",
    "              monotone_constraints='()', n_estimators=100, n_jobs=16,\n",
    "              num_parallel_tree=1, objective='multi:softprob', random_state=0,\n",
    "              reg_alpha=0, reg_lambda=1, scale_pos_weight=None, subsample=1,\n",
    "              tree_method='exact', use_label_encoder=False,\n",
    "              validate_parameters=1, verbosity=None)\n",
    "test=model.predict(X_test)\n",
    "tt=model.predict(X_train)\n",
    "print(accuracy_score(y_train, tt))\n",
    "print(accuracy_score(y_test, test))              \n",
    "              \n",
    "              \n",
    "'''\n",
    "'''\n",
    "clf = RandomForestClassifier()\n",
    "clf.fit(X_train, y_train)\n",
    "test=clf.predict(X_test)\n",
    "tt=clf.predict(X_train)\n",
    "print(accuracy_score(y_train, tt))\n",
    "print(accuracy_score(y_test, test))\n",
    "'''\n",
    "end = time.time()\n",
    "print(end - start)"
   ]
  },
  {
   "cell_type": "code",
   "execution_count": 17,
   "id": "2cc8f5e6",
   "metadata": {},
   "outputs": [
    {
     "name": "stderr",
     "output_type": "stream",
     "text": [
      "C:\\Users\\Lucrezia\\AppData\\Local\\Temp/ipykernel_14532/1498129022.py:16: MatplotlibDeprecationWarning: savefig() got unexpected keyword argument \"bbox\" which is no longer supported as of 3.3 and will become an error two minor releases later\n",
      "  plt.savefig('Confmatrixsvmallnos',bbox='tight_layout',dpi=100)\n"
     ]
    },
    {
     "data": {
      "image/png": "[encoded data removed]",
      "text/plain": [
       "<Figure size 720x576 with 2 Axes>"
      ]
     },
     "metadata": {
      "needs_background": "light"
     },
     "output_type": "display_data"
    }
   ],
   "source": [
    "cm = confusion_matrix(y_test, test,normalize='all')\n",
    "cm_df = pd.DataFrame(cm,\n",
    "                     index = ['Person1','Person2','Overlapping','Silence'], \n",
    "                     columns = ['Person1','Person2','Overlapping','Silence'])\n",
    "#Plotting the confusion matrix\n",
    "plt.figure(figsize=(10,8))\n",
    "ax=sns.heatmap(cm_df, annot=True)\n",
    "ax.collections[0].colorbar.set_label('Percentage of labels',fontsize=20)\n",
    "plt.ylabel('Actual Values',fontsize=20)\n",
    "plt.xlabel('Predicted Values',fontsize=20)\n",
    "plt.xticks(fontsize=17)\n",
    "plt.yticks(fontsize=17)\n",
    "plt.savefig('Confmatrixsvmallnos',bbox='tight_layout',dpi=100)\n",
    "plt.show()"
   ]
  },
  {
   "cell_type": "code",
   "execution_count": 24,
   "id": "443cb4fe",
   "metadata": {},
   "outputs": [
    {
     "name": "stdout",
     "output_type": "stream",
     "text": [
      "Percentage correct pred:  96.30175954877076\n"
     ]
    }
   ],
   "source": [
    "c=0\n",
    "b=(len(test))\n",
    "cont2=0\n",
    "conpred2=0\n",
    "for i in range(0,b):\n",
    "    if test[i]==2:\n",
    "        conpred2+=1\n",
    "    if y_test[i]==2:\n",
    "        cont2+=1\n",
    "    if test[i]!=y_test[i]:\n",
    "        c+=1\n",
    "print('Percentage correct pred: ',(b-c)*(100/b))"
   ]
  }
 ],
 "metadata": {
  "kernelspec": {
   "display_name": "Python 3 (ipykernel)",
   "language": "python",
   "name": "python3"
  },
  "language_info": {
   "codemirror_mode": {
    "name": "ipython",
    "version": 3
   },
   "file_extension": ".py",
   "mimetype": "text/x-python",
   "name": "python",
   "nbconvert_exporter": "python",
   "pygments_lexer": "ipython3",
   "version": "3.9.7"
  }
 },
 "nbformat": 4,
 "nbformat_minor": 5
}
